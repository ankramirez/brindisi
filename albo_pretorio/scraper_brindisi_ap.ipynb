{
 "cells": [
  {
   "cell_type": "code",
   "execution_count": 2,
   "metadata": {},
   "outputs": [],
   "source": [
    "from datetime import datetime,date\n",
    "from functools import wraps\n",
    "from selenium.webdriver import Chrome\n",
    "from selenium.webdriver.chrome.service import Service\n",
    "from selenium.webdriver.common.by import By\n",
    "from selenium.webdriver.common.action_chains import ActionChains\n",
    "from selenium.webdriver.chrome.options import Options\n",
    "from selenium.common.exceptions import NoSuchElementException, NoSuchWindowException, ElementNotInteractableException\n",
    "from selenium.webdriver.remote.webelement import WebElement\n",
    "from selenium.webdriver.support.ui import Select, WebDriverWait\n",
    "from selenium.webdriver.support import expected_conditions as EC\n",
    "from urllib.parse import urlparse, unquote\n",
    "\n",
    "import csv\n",
    "import hashlib\n",
    "import logging\n",
    "import os\n",
    "import requests\n",
    "import re\n",
    "import time\n",
    "\n",
    "from pathlib import Path\n",
    "from typing import Tuple"
   ]
  },
  {
   "cell_type": "code",
   "execution_count": 3,
   "metadata": {},
   "outputs": [],
   "source": [
    "logging.basicConfig()\n",
    "logging.getLogger().setLevel(logging.INFO)"
   ]
  },
  {
   "cell_type": "code",
   "execution_count": 4,
   "metadata": {},
   "outputs": [],
   "source": [
    "comune = 'brindisi'\n",
    "download_path = './ap'\n",
    "url_comune = 'https://servizi.comune.brindisi.it/openweb/albo/albo_pretorio.php'"
   ]
  },
  {
   "cell_type": "code",
   "execution_count": 5,
   "metadata": {},
   "outputs": [],
   "source": [
    "def retry(max_attempts=3, delay=10, exceptions=(Exception,)):\n",
    "    def decorator(func):\n",
    "        @wraps(func)\n",
    "        def wrapper(*args, **kwargs):\n",
    "            attempts = 0\n",
    "            while attempts < max_attempts:\n",
    "                try:\n",
    "                    return func(*args, **kwargs)\n",
    "                except exceptions as e:\n",
    "                    attempts += 1\n",
    "                    logging.info(f\"Attempt {attempts} failed:\", e)\n",
    "                    time.sleep(delay)\n",
    "            raise RuntimeError(f\"Function {func.__name__} failed after {max_attempts} attempts\")\n",
    "        return wrapper\n",
    "    return decorator"
   ]
  },
  {
   "cell_type": "markdown",
   "metadata": {},
   "source": [
    "# Driver manager"
   ]
  },
  {
   "cell_type": "code",
   "execution_count": 6,
   "metadata": {},
   "outputs": [],
   "source": [
    "class WebDriverManager:\n",
    "    def __init__(self, DIR_DOWNLOAD):\n",
    "        self.driver = None\n",
    "\n",
    "    def start_driver(self, url):\n",
    "        if not self.driver or (self.is_driver_open() == False):\n",
    "            opts = Options()\n",
    "            # start driver\n",
    "            s = Service(r\".\\chromedriver.exe\")\n",
    "            prefs = {\"download.default_directory\": f'{download_path}',\n",
    "                    \"directory_upgrade\": True,\n",
    "                    \"profile.default_content_settings.popups\": 0}\n",
    "            opts.add_experimental_option(\"prefs\", prefs)\n",
    "            self.driver = Chrome(service=s, options=opts)\n",
    "\n",
    "            # opts = Options()\n",
    "            # service = Service()\n",
    "\n",
    "            # prefs = {\"download.default_directory\": f'{download_path}',\n",
    "            #         \"directory_upgrade\": True,\n",
    "            #         \"profile.default_content_settings.popups\": 0,\n",
    "            #         \"plugins.always_open_pdf_externally\": True  # It will not show PDF directly in chrome\n",
    "            #         }\n",
    "\n",
    "            # opts.add_experimental_option('prefs', prefs)\n",
    "            # opts.add_argument('--no-sandbox')\n",
    "            # opts.add_argument('--headless')\n",
    "            # opts.add_argument('--disable-gpu')\n",
    "            # opts.add_argument('--disable-dev-shm-usage')\n",
    "\n",
    "            # self.driver = Chrome(service=service,\n",
    "            #                 options=opts)\n",
    "\n",
    "            self.driver.get(url)\n",
    "            # self.check_cookies()\n",
    "            time.sleep(10) # Waiting for main page to load\n",
    "        return self.driver  # Return the driver instance\n",
    "        \n",
    "    # No cookies button (?)\n",
    "    # def check_cookies(self):\n",
    "    #     try: \n",
    "    #         time.sleep(2)\n",
    "    #         cookie_button = self.driver.find_element(By.CLASS_NAME, \"btn.btn-primary.mr-2\")\n",
    "\n",
    "    #         cookie_button.click()\n",
    "    #     except NoSuchElementException:\n",
    "    #         logging.info(f'Cookies button was not found')\n",
    "    #         pass\n",
    "    #     except ElementNotInteractableException:\n",
    "    #         pass\n",
    "\n",
    "    def is_driver_open(self):\n",
    "        if self.driver:\n",
    "            try:\n",
    "                # Access a property or method of the driver\n",
    "                self.driver.current_url\n",
    "                return True\n",
    "            except NoSuchWindowException:\n",
    "                return False\n",
    "            except Exception as e:\n",
    "                logging.info(f'Driver seems to be closed: {e}')\n",
    "                return False\n",
    "        return False\n",
    "    \n",
    "    def get_driver(self, link):\n",
    "        if not self.is_driver_open():\n",
    "            logging.warning(f'Driver is not responding, reopening')\n",
    "            self.driver = self.start_driver(link)\n",
    "        # else: \n",
    "        #     self.driver.get(link)\n",
    "            # self.check_cookies()\n",
    "\n",
    "        return self.driver\n",
    "\n",
    "    def close_driver(self):\n",
    "        if self.driver:\n",
    "            self.driver.quit()\n",
    "            self.driver = None"
   ]
  },
  {
   "cell_type": "code",
   "execution_count": 7,
   "metadata": {},
   "outputs": [],
   "source": [
    "driver_manager = WebDriverManager(download_path)"
   ]
  },
  {
   "cell_type": "code",
   "execution_count": 8,
   "metadata": {},
   "outputs": [
    {
     "name": "stderr",
     "output_type": "stream",
     "text": [
      "WARNING:root:Driver is not responding, reopening\n"
     ]
    }
   ],
   "source": [
    "driver = driver_manager.get_driver(url_comune)"
   ]
  },
  {
   "cell_type": "markdown",
   "metadata": {},
   "source": [
    "# Loop through all pages of a section"
   ]
  },
  {
   "cell_type": "code",
   "execution_count": 20,
   "metadata": {},
   "outputs": [],
   "source": [
    "body_e = driver.find_element(By.ID, 'tabella_albo')\n",
    "\n",
    "rows_e = body_e.find_elements(By.CLASS_NAME, 'paginated_element')"
   ]
  },
  {
   "cell_type": "code",
   "execution_count": 24,
   "metadata": {},
   "outputs": [
    {
     "name": "stdout",
     "output_type": "stream",
     "text": [
      "05/06/2024 06/06/2024\n",
      "05/06/2024 06/06/2024\n",
      "05/06/2024 06/06/2024\n",
      "05/06/2024 06/06/2024\n",
      "05/06/2024 06/06/2024\n",
      "05/06/2024 06/06/2024\n",
      "05/06/2024 06/06/2024\n",
      "05/06/2024 06/06/2024\n",
      "05/06/2024 06/06/2024\n",
      "05/06/2024 06/06/2024\n",
      "05/06/2024 06/06/2024\n",
      "05/06/2024 05/07/2024\n",
      "05/06/2024 20/06/2024\n",
      "05/06/2024 20/06/2024\n",
      "05/06/2024 20/06/2024\n"
     ]
    }
   ],
   "source": [
    "for r_e in rows_e:\n",
    "    # Find the div containing 'Data affissione:'\n",
    "    data_affissione_div = r_e.find_element(By.XPATH, \".//div[label/text()='Data affissione:']\")\n",
    "    # data_affissione_text = data_affissione_div.text.split(\"Data affissione:\")[1].strip()\n",
    "\n",
    "    # Find the div containing 'Fine Pubblicazione:'\n",
    "    fine_pubblicazione_div = r_e.find_element(By.XPATH, \".//div[label/text()='Fine Pubblicazione:']\")\n",
    "    # fine_pubblicazione_text = fine_pubblicazione_div.text.split(\"Fine Pubblicazione:\")[1].strip()\n",
    "\n",
    "    print(data_affissione_div.text, fine_pubblicazione_div.text)\n",
    "    "
   ]
  },
  {
   "cell_type": "code",
   "execution_count": 31,
   "metadata": {},
   "outputs": [
    {
     "name": "stdout",
     "output_type": "stream",
     "text": [
      "2024/0002715\n",
      "2024/0002714\n",
      "2024/0002713\n",
      "2024/0002712\n",
      "2024/0002711\n",
      "2024/0002710\n",
      "2024/0002709\n",
      "2024/0002708\n",
      "2024/0002707\n",
      "2024/0002706\n",
      "2024/0002705\n",
      "2024/0002704\n",
      "2024/0002703\n",
      "2024/0002702\n",
      "2024/0002701\n"
     ]
    },
    {
     "ename": "ElementClickInterceptedException",
     "evalue": "Message: element click intercepted: Element is not clickable at point (603, 5574)\n  (Session info: chrome=125.0.6422.142)\nStacktrace:\n\tGetHandleVerifier [0x00007FF6D9451F22+60322]\n\t(No symbol) [0x00007FF6D93CCE99]\n\t(No symbol) [0x00007FF6D9287EBA]\n\t(No symbol) [0x00007FF6D92DF32E]\n\t(No symbol) [0x00007FF6D92DCCF2]\n\t(No symbol) [0x00007FF6D92DA18B]\n\t(No symbol) [0x00007FF6D92D9356]\n\t(No symbol) [0x00007FF6D92CB491]\n\t(No symbol) [0x00007FF6D92FC21A]\n\t(No symbol) [0x00007FF6D92CADB6]\n\t(No symbol) [0x00007FF6D92FC430]\n\t(No symbol) [0x00007FF6D931BC80]\n\t(No symbol) [0x00007FF6D92FBFC3]\n\t(No symbol) [0x00007FF6D92C9617]\n\t(No symbol) [0x00007FF6D92CA211]\n\tGetHandleVerifier [0x00007FF6D976946D+3301613]\n\tGetHandleVerifier [0x00007FF6D97B3693+3605267]\n\tGetHandleVerifier [0x00007FF6D97A9410+3563664]\n\tGetHandleVerifier [0x00007FF6D95042F6+790390]\n\t(No symbol) [0x00007FF6D93D74DF]\n\t(No symbol) [0x00007FF6D93D33D4]\n\t(No symbol) [0x00007FF6D93D3562]\n\t(No symbol) [0x00007FF6D93C2F6F]\n\tBaseThreadInitThunk [0x00007FF92F82257D+29]\n\tRtlUserThreadStart [0x00007FF9315AAA48+40]\n",
     "output_type": "error",
     "traceback": [
      "\u001b[1;31m---------------------------------------------------------------------------\u001b[0m",
      "\u001b[1;31mElementClickInterceptedException\u001b[0m          Traceback (most recent call last)",
      "Cell \u001b[1;32mIn[31], line 17\u001b[0m\n\u001b[0;32m     14\u001b[0m next_button \u001b[38;5;241m=\u001b[39m driver\u001b[38;5;241m.\u001b[39mfind_element(By\u001b[38;5;241m.\u001b[39mXPATH, \u001b[38;5;124m\"\u001b[39m\u001b[38;5;124m//a[@class=\u001b[39m\u001b[38;5;124m'\u001b[39m\u001b[38;5;124mbutton\u001b[39m\u001b[38;5;124m'\u001b[39m\u001b[38;5;124m and @title=\u001b[39m\u001b[38;5;124m'\u001b[39m\u001b[38;5;124mSuccessiva\u001b[39m\u001b[38;5;124m'\u001b[39m\u001b[38;5;124m]\u001b[39m\u001b[38;5;124m\"\u001b[39m)\n\u001b[0;32m     15\u001b[0m \u001b[38;5;66;03m# Clicking on it using js\u001b[39;00m\n\u001b[0;32m     16\u001b[0m \u001b[38;5;66;03m# driver.execute_script(\"arguments[0].click();\", next_button)\u001b[39;00m\n\u001b[1;32m---> 17\u001b[0m \u001b[43mnext_button\u001b[49m\u001b[38;5;241;43m.\u001b[39;49m\u001b[43mclick\u001b[49m\u001b[43m(\u001b[49m\u001b[43m)\u001b[49m\n",
      "File \u001b[1;32mc:\\Users\\AnayansiRamirez\\Desktop\\git_projects\\it_trasparenza\\.venv\\lib\\site-packages\\selenium\\webdriver\\remote\\webelement.py:94\u001b[0m, in \u001b[0;36mWebElement.click\u001b[1;34m(self)\u001b[0m\n\u001b[0;32m     92\u001b[0m \u001b[38;5;28;01mdef\u001b[39;00m \u001b[38;5;21mclick\u001b[39m(\u001b[38;5;28mself\u001b[39m) \u001b[38;5;241m-\u001b[39m\u001b[38;5;241m>\u001b[39m \u001b[38;5;28;01mNone\u001b[39;00m:\n\u001b[0;32m     93\u001b[0m \u001b[38;5;250m    \u001b[39m\u001b[38;5;124;03m\"\"\"Clicks the element.\"\"\"\u001b[39;00m\n\u001b[1;32m---> 94\u001b[0m     \u001b[38;5;28;43mself\u001b[39;49m\u001b[38;5;241;43m.\u001b[39;49m\u001b[43m_execute\u001b[49m\u001b[43m(\u001b[49m\u001b[43mCommand\u001b[49m\u001b[38;5;241;43m.\u001b[39;49m\u001b[43mCLICK_ELEMENT\u001b[49m\u001b[43m)\u001b[49m\n",
      "File \u001b[1;32mc:\\Users\\AnayansiRamirez\\Desktop\\git_projects\\it_trasparenza\\.venv\\lib\\site-packages\\selenium\\webdriver\\remote\\webelement.py:395\u001b[0m, in \u001b[0;36mWebElement._execute\u001b[1;34m(self, command, params)\u001b[0m\n\u001b[0;32m    393\u001b[0m     params \u001b[38;5;241m=\u001b[39m {}\n\u001b[0;32m    394\u001b[0m params[\u001b[38;5;124m\"\u001b[39m\u001b[38;5;124mid\u001b[39m\u001b[38;5;124m\"\u001b[39m] \u001b[38;5;241m=\u001b[39m \u001b[38;5;28mself\u001b[39m\u001b[38;5;241m.\u001b[39m_id\n\u001b[1;32m--> 395\u001b[0m \u001b[38;5;28;01mreturn\u001b[39;00m \u001b[38;5;28;43mself\u001b[39;49m\u001b[38;5;241;43m.\u001b[39;49m\u001b[43m_parent\u001b[49m\u001b[38;5;241;43m.\u001b[39;49m\u001b[43mexecute\u001b[49m\u001b[43m(\u001b[49m\u001b[43mcommand\u001b[49m\u001b[43m,\u001b[49m\u001b[43m \u001b[49m\u001b[43mparams\u001b[49m\u001b[43m)\u001b[49m\n",
      "File \u001b[1;32mc:\\Users\\AnayansiRamirez\\Desktop\\git_projects\\it_trasparenza\\.venv\\lib\\site-packages\\selenium\\webdriver\\remote\\webdriver.py:347\u001b[0m, in \u001b[0;36mWebDriver.execute\u001b[1;34m(self, driver_command, params)\u001b[0m\n\u001b[0;32m    345\u001b[0m response \u001b[38;5;241m=\u001b[39m \u001b[38;5;28mself\u001b[39m\u001b[38;5;241m.\u001b[39mcommand_executor\u001b[38;5;241m.\u001b[39mexecute(driver_command, params)\n\u001b[0;32m    346\u001b[0m \u001b[38;5;28;01mif\u001b[39;00m response:\n\u001b[1;32m--> 347\u001b[0m     \u001b[38;5;28;43mself\u001b[39;49m\u001b[38;5;241;43m.\u001b[39;49m\u001b[43merror_handler\u001b[49m\u001b[38;5;241;43m.\u001b[39;49m\u001b[43mcheck_response\u001b[49m\u001b[43m(\u001b[49m\u001b[43mresponse\u001b[49m\u001b[43m)\u001b[49m\n\u001b[0;32m    348\u001b[0m     response[\u001b[38;5;124m\"\u001b[39m\u001b[38;5;124mvalue\u001b[39m\u001b[38;5;124m\"\u001b[39m] \u001b[38;5;241m=\u001b[39m \u001b[38;5;28mself\u001b[39m\u001b[38;5;241m.\u001b[39m_unwrap_value(response\u001b[38;5;241m.\u001b[39mget(\u001b[38;5;124m\"\u001b[39m\u001b[38;5;124mvalue\u001b[39m\u001b[38;5;124m\"\u001b[39m, \u001b[38;5;28;01mNone\u001b[39;00m))\n\u001b[0;32m    349\u001b[0m     \u001b[38;5;28;01mreturn\u001b[39;00m response\n",
      "File \u001b[1;32mc:\\Users\\AnayansiRamirez\\Desktop\\git_projects\\it_trasparenza\\.venv\\lib\\site-packages\\selenium\\webdriver\\remote\\errorhandler.py:229\u001b[0m, in \u001b[0;36mErrorHandler.check_response\u001b[1;34m(self, response)\u001b[0m\n\u001b[0;32m    227\u001b[0m         alert_text \u001b[38;5;241m=\u001b[39m value[\u001b[38;5;124m\"\u001b[39m\u001b[38;5;124malert\u001b[39m\u001b[38;5;124m\"\u001b[39m]\u001b[38;5;241m.\u001b[39mget(\u001b[38;5;124m\"\u001b[39m\u001b[38;5;124mtext\u001b[39m\u001b[38;5;124m\"\u001b[39m)\n\u001b[0;32m    228\u001b[0m     \u001b[38;5;28;01mraise\u001b[39;00m exception_class(message, screen, stacktrace, alert_text)  \u001b[38;5;66;03m# type: ignore[call-arg]  # mypy is not smart enough here\u001b[39;00m\n\u001b[1;32m--> 229\u001b[0m \u001b[38;5;28;01mraise\u001b[39;00m exception_class(message, screen, stacktrace)\n",
      "\u001b[1;31mElementClickInterceptedException\u001b[0m: Message: element click intercepted: Element is not clickable at point (603, 5574)\n  (Session info: chrome=125.0.6422.142)\nStacktrace:\n\tGetHandleVerifier [0x00007FF6D9451F22+60322]\n\t(No symbol) [0x00007FF6D93CCE99]\n\t(No symbol) [0x00007FF6D9287EBA]\n\t(No symbol) [0x00007FF6D92DF32E]\n\t(No symbol) [0x00007FF6D92DCCF2]\n\t(No symbol) [0x00007FF6D92DA18B]\n\t(No symbol) [0x00007FF6D92D9356]\n\t(No symbol) [0x00007FF6D92CB491]\n\t(No symbol) [0x00007FF6D92FC21A]\n\t(No symbol) [0x00007FF6D92CADB6]\n\t(No symbol) [0x00007FF6D92FC430]\n\t(No symbol) [0x00007FF6D931BC80]\n\t(No symbol) [0x00007FF6D92FBFC3]\n\t(No symbol) [0x00007FF6D92C9617]\n\t(No symbol) [0x00007FF6D92CA211]\n\tGetHandleVerifier [0x00007FF6D976946D+3301613]\n\tGetHandleVerifier [0x00007FF6D97B3693+3605267]\n\tGetHandleVerifier [0x00007FF6D97A9410+3563664]\n\tGetHandleVerifier [0x00007FF6D95042F6+790390]\n\t(No symbol) [0x00007FF6D93D74DF]\n\t(No symbol) [0x00007FF6D93D33D4]\n\t(No symbol) [0x00007FF6D93D3562]\n\t(No symbol) [0x00007FF6D93C2F6F]\n\tBaseThreadInitThunk [0x00007FF92F82257D+29]\n\tRtlUserThreadStart [0x00007FF9315AAA48+40]\n"
     ]
    }
   ],
   "source": [
    "while True:\n",
    "    body_e = driver.find_element(By.ID, 'tabella_albo')\n",
    "\n",
    "    rows_e = body_e.find_elements(By.CLASS_NAME, 'paginated_element')\n",
    "\n",
    "    if rows_e:\n",
    "        for r_e in rows_e:\n",
    "            progressivo = r_e.find_element(By.TAG_NAME, 'div').text\n",
    "            print(progressivo)\n",
    "    else:\n",
    "        break\n",
    "\n",
    "    # Finding next page button:\n",
    "    next_button = driver.find_element(By.XPATH, \"//a[@class='button' and @title='Successiva']\")\n",
    "    # Clicking on it using js\n",
    "    # driver.execute_script(\"arguments[0].click();\", next_button)\n",
    "    next_button.click()"
   ]
  },
  {
   "cell_type": "code",
   "execution_count": null,
   "metadata": {},
   "outputs": [],
   "source": []
  },
  {
   "cell_type": "code",
   "execution_count": null,
   "metadata": {},
   "outputs": [],
   "source": []
  },
  {
   "cell_type": "code",
   "execution_count": 12,
   "metadata": {},
   "outputs": [
    {
     "name": "stdout",
     "output_type": "stream",
     "text": [
      "Getting elements: 1-10\n",
      "Getting elements: 11-12\n"
     ]
    }
   ],
   "source": [
    "# selector for page number\n",
    "page_s_e = driver.find_element(By.ID, 'range_pagina')\n",
    "\n",
    "pages_e = page_s_e.find_elements(By.TAG_NAME, 'option')\n",
    "\n",
    "pages = [p.get_attribute('value') for p in pages_e if p.get_attribute('value') != '']\n",
    "\n",
    "for p in pages:\n",
    "    print(f'Getting elements: {p}')\n",
    "\n",
    "    page_s_e = driver.find_element(By.ID, 'range_pagina')\n",
    "\n",
    "    page_select = Select(page_s_e)\n",
    "    \n",
    "    page_select.select_by_value(p)\n",
    "\n",
    "    time.sleep(2)\n"
   ]
  },
  {
   "cell_type": "markdown",
   "metadata": {},
   "source": [
    "# Getting oggetti and info"
   ]
  },
  {
   "cell_type": "code",
   "execution_count": 29,
   "metadata": {},
   "outputs": [],
   "source": [
    "body_e = driver.find_element(By.CLASS_NAME, 'it-list-wrapper')\n",
    "\n",
    "oggetti_e = body_e.find_elements(By.XPATH, './ul/li')"
   ]
  },
  {
   "cell_type": "code",
   "execution_count": 30,
   "metadata": {},
   "outputs": [
    {
     "data": {
      "text/plain": [
       "2"
      ]
     },
     "execution_count": 30,
     "metadata": {},
     "output_type": "execute_result"
    }
   ],
   "source": [
    "len(oggetti_e)"
   ]
  },
  {
   "cell_type": "code",
   "execution_count": 32,
   "metadata": {},
   "outputs": [
    {
     "name": "stdout",
     "output_type": "stream",
     "text": [
      "NEW_OGGETTO\n",
      "Oggetto Pubblicazione di Matrimonio di SCARAMUCCI Daniele e VANNINI Ilenia\n",
      "In pubblicazione dal 28/05/2024 al 05/06/2024\n",
      "Registro: 2024/3237\n",
      "Ente proponente: COMUNE DI AREZZO UFFICIO STATO CIVILE\n",
      "NEW_OGGETTO\n",
      "Oggetto Pubblicazione di Matrimonio di BRACALENTI Massimo e SBRAGI Michela\n",
      "In pubblicazione dal 29/05/2024 al 06/06/2024\n",
      "Registro: 2024/3247\n",
      "Ente proponente: COMUNE DI AREZZO UFFICIO STATO CIVILE\n"
     ]
    }
   ],
   "source": [
    "for o_e in oggetti_e:\n",
    "    print(F'NEW_OGGETTO')\n",
    "    ul_e = o_e.find_element(By.CLASS_NAME, 'link-sublist')\n",
    "    print(ul_e.text)"
   ]
  },
  {
   "cell_type": "code",
   "execution_count": 39,
   "metadata": {},
   "outputs": [
    {
     "name": "stdout",
     "output_type": "stream",
     "text": [
      "Oggetto Pubblicazione di Matrimonio di SCARAMUCCI Daniele e VANNINI Ilenia\n",
      "In pubblicazione dal 28/05/2024 al 05/06/2024\n",
      "Registro: 2024/3237\n",
      "Ente proponente: COMUNE DI AREZZO UFFICIO STATO CIVILE\n"
     ]
    }
   ],
   "source": [
    "info_e = driver.find_element(By.CLASS_NAME, 'link-sublist')\n",
    "print(info_e.text)\n",
    "\n",
    "# Regular expression pattern to match the date pattern\n",
    "date_pattern = r\"In pubblicazione dal (\\d{2}/\\d{2}/\\d{4}) al (\\d{2}/\\d{2}/\\d{4})\"\n",
    "\n",
    "# Find all date patterns in the info\n",
    "date_matches = re.search(date_pattern, info_e.text)\n",
    "\n",
    "if date_matches:\n",
    "    start_date = datetime.strptime(date_matches.group(1), '%d/%m/%Y')\n",
    "    end_date = datetime.strptime(date_matches.group(2), '%d/%m/%Y')\n",
    "else:\n",
    "    print('No dates were found')"
   ]
  },
  {
   "cell_type": "code",
   "execution_count": 41,
   "metadata": {},
   "outputs": [
    {
     "data": {
      "text/plain": [
       "(datetime.datetime(2024, 5, 28, 0, 0), datetime.datetime(2024, 6, 5, 0, 0))"
      ]
     },
     "execution_count": 41,
     "metadata": {},
     "output_type": "execute_result"
    }
   ],
   "source": [
    "start_date, end_date"
   ]
  },
  {
   "cell_type": "code",
   "execution_count": 42,
   "metadata": {},
   "outputs": [
    {
     "name": "stdout",
     "output_type": "stream",
     "text": [
      "3237\n"
     ]
    }
   ],
   "source": [
    "atto_pattern = r\"Registro: 2024/(\\d+)\"\n",
    "\n",
    "# Find matches in the string\n",
    "match = re.search(atto_pattern, info_e.text)\n",
    "print(match.group(1))"
   ]
  },
  {
   "cell_type": "markdown",
   "metadata": {},
   "source": [
    "# Downloading files"
   ]
  },
  {
   "cell_type": "code",
   "execution_count": 100,
   "metadata": {},
   "outputs": [
    {
     "name": "stdout",
     "output_type": "stream",
     "text": [
      "Pubblicazione di Matrimonio di BRACALENTI Massimo e SBRAGI Michela\n",
      "Registro: 2024/3247\n",
      "Tipologia: Pubbl.Matrimonio ordinaria\n",
      "In pubblicazione dal 29/05/2024 al 06/06/2024\n",
      "Ente proponente: COMUNE DI AREZZO UFFICIO STATO CIVILE - VerbalePubblicazioneMatrimonioNumero:2024/149\n",
      "Allegati:\n",
      "Pubblicazioni di matrimonio BRACALENTI Massimo e SBRAGI Michela - Pubblicazioni di matrimonio BRACALENTI Massimo e SBRAGI Michela.pdf.p7m - 385,70 Kb\n"
     ]
    }
   ],
   "source": [
    "body_e = driver.find_element(By.CLASS_NAME, 'documento')\n",
    "print(body_e.text)"
   ]
  },
  {
   "cell_type": "code",
   "execution_count": 101,
   "metadata": {},
   "outputs": [],
   "source": [
    "a_elements = body_e.find_elements(By.TAG_NAME, 'a')"
   ]
  },
  {
   "cell_type": "code",
   "execution_count": 102,
   "metadata": {},
   "outputs": [
    {
     "name": "stdout",
     "output_type": "stream",
     "text": [
      "- Pubblicazioni di matrimonio BRACALENTI Massimo e SBRAGI Michela.pdf.p7m - 385,70 Kb\n"
     ]
    }
   ],
   "source": [
    "for a_e in a_elements:\n",
    "    sibling_text = driver.execute_script(\"\"\"\n",
    "    var a = arguments[0];\n",
    "    var text = a.nextSibling.nodeValue;\n",
    "    return text;\n",
    "    \"\"\", a_e).strip()\n",
    "\n",
    "    print(sibling_text)"
   ]
  },
  {
   "cell_type": "markdown",
   "metadata": {},
   "source": [
    "# Class oggetti Ricerca"
   ]
  },
  {
   "cell_type": "code",
   "execution_count": 122,
   "metadata": {},
   "outputs": [],
   "source": [
    "class SectionsAlbo:\n",
    "    def __init__(self, driver_manager: WebDriverManager, section_otion: str, dir_download: str, last_date_update: datetime):\n",
    "        self.driver_manager = driver_manager\n",
    "        self.driver = self.get_section(section_option=section_otion)\n",
    "        self.dir_download = self.check_dir_download(dir_download)\n",
    "        self.last_date_update = last_date_update\n",
    "        self.dict_links_oggetti = self.loop_all_pages()\n",
    "\n",
    "    def get_section(self, section_option: str):\n",
    "        driver = self.driver_manager.get_driver(url_comune)\n",
    "\n",
    "        menu_e = driver.find_element(By.ID, 'tendinaTipoPratiche')\n",
    "        select_menu = Select(menu_e)\n",
    "\n",
    "        select_menu.select_by_value(section_option)\n",
    "\n",
    "        button_cerca = driver.find_element(By.ID, 'inforBottoneConfermaAlbo')\n",
    "        button_cerca.click()\n",
    "        return driver\n",
    "        \n",
    "    def check_dir_download(self, dir_download):\n",
    "        # Creating directory if does not exist:\n",
    "        if not os.path.exists(dir_download):\n",
    "            os.makedirs(dir_download)\n",
    "        return dir_download\n",
    "\n",
    "    def get_n_atto(self, info_atto: str)->str:\n",
    "        try:\n",
    "            atto_pattern = r\"Registro: 2024/(\\d+)\"\n",
    "\n",
    "            # Find matches in the string\n",
    "            match = re.search(atto_pattern, info_atto)\n",
    "            return match.group(1)\n",
    "        except Exception as e:\n",
    "            logging.warning(f'SectionsAlbo: Could not get n_atto: {e}')\n",
    "    \n",
    "    def get_publish_dates(self, info_atto: str)->Tuple[datetime, datetime]:\n",
    "        try:\n",
    "            # Regular expression pattern to match the date pattern\n",
    "            date_pattern = r\"In pubblicazione dal (\\d{2}/\\d{2}/\\d{4}) al (\\d{2}/\\d{2}/\\d{4})\"\n",
    "\n",
    "            # Find all date patterns in the info\n",
    "            date_matches = re.search(date_pattern, info_atto)\n",
    "\n",
    "            start_date = datetime.strptime(date_matches.group(1), '%d/%m/%Y')\n",
    "            end_date = datetime.strptime(date_matches.group(2), '%d/%m/%Y')\n",
    "\n",
    "            return start_date, end_date\n",
    "        except Exception as e:\n",
    "            logging.warning(f'SectionsAlbo: It was not possible to get publish dates: {e}')\n",
    "            return None, None\n",
    "    \n",
    "    def get_oggetto_link(self, ogg_e: WebElement)->str:\n",
    "        try:\n",
    "            a_element = ogg_e.find_element(By.TAG_NAME, 'a')\n",
    "            return a_element.get_attribute('href')\n",
    "\n",
    "        except Exception as e:\n",
    "            logging.warning(f'SectionsAlbo: Could not get link from oggetto {e}')\n",
    "        pass\n",
    "\n",
    "    @staticmethod\n",
    "    def rename_file(file_name:str, link_ogg: str)->str:\n",
    "        # Generate a unique identifier for the file\n",
    "        id = hashlib.sha256(link_ogg.encode()).hexdigest()[:8]\n",
    "\n",
    "        return f'{id}_{file_name}'\n",
    "\n",
    "    def download_file(self, file_name:str, link_ogg:str)->Path:\n",
    "        try: \n",
    "            # Download the file\n",
    "            response = requests.get(link_ogg)\n",
    "\n",
    "            # Construct the full path of the file\n",
    "            file_path = Path(self.dir_download, file_name)\n",
    "\n",
    "            # Save the file\n",
    "            with open(file_path, 'wb') as f:\n",
    "                f.write(response.content)\n",
    "            \n",
    "            return file_path\n",
    "        except Exception as e:\n",
    "            logging.warning(f'SectionsAlbo: It was not possible to download file: {e}')  \n",
    "        pass\n",
    "\n",
    "    def get_atti_from_page(self) -> dict:\n",
    "        try:\n",
    "            all_oggetti_section = {}\n",
    "            body_e = self.driver.find_element(By.CLASS_NAME, 'it-list-wrapper')\n",
    "\n",
    "            oggetti_e  = body_e.find_elements(By.XPATH, './ul/li')\n",
    "\n",
    "            for ogg in oggetti_e:\n",
    "                info_atto = ogg.find_element(By.CLASS_NAME, 'link-sublist').text\n",
    "                start_date, _ = self.get_publish_dates(info_atto=info_atto)\n",
    "                if (self.last_date_update == None) or (self.last_date_update < start_date):\n",
    "                    dict_ogg = self.get_main_info_oggetto(oggetto=ogg, \n",
    "                                                          info_atto=info_atto)\n",
    "\n",
    "                    all_oggetti_section.update(dict_ogg)\n",
    "            \n",
    "            return all_oggetti_section\n",
    "        except Exception as e:\n",
    "            logging.warning(f'SectionsAlbo: Could not get the atti from this page: {e}')\n",
    "\n",
    "    def loop_all_pages(self) -> dict:\n",
    "        try: \n",
    "            all_oggetti_dict = {}\n",
    "            # selector for page number to get all options\n",
    "            page_s_e = self.driver.find_element(By.ID, 'range_pagina')\n",
    "\n",
    "            pages_e = page_s_e.find_elements(By.TAG_NAME, 'option')\n",
    "\n",
    "            pages = [p.get_attribute('value') for p in pages_e if p.get_attribute('value') != '']\n",
    "\n",
    "            for p in pages:\n",
    "                # Finding page selector in the given page\n",
    "                page_s_e = driver.find_element(By.ID, 'range_pagina')\n",
    "\n",
    "                # Using selenium create a select menu with each element\n",
    "                page_select = Select(page_s_e)\n",
    "                \n",
    "                # Selecting each page\n",
    "                page_select.select_by_value(p)\n",
    "\n",
    "                time.sleep(2)\n",
    "\n",
    "                dict_section = self.get_atti_from_page()\n",
    "                all_oggetti_dict.update(dict_section)\n",
    "\n",
    "            return all_oggetti_dict\n",
    "\n",
    "        except NoSuchElementException:\n",
    "            pass\n",
    "            return {}\n",
    "        except Exception as e:\n",
    "            logging.warning(f'OggetiRicercaAlbo: Could not get all page numbers: {e}')\n",
    "            return {}\n",
    "\n",
    "    def get_main_info_oggetto(self, oggetto: WebElement, info_atto: str) -> dict:\n",
    "        n_atto = self.get_n_atto(info_atto=info_atto)\n",
    "        start_date, end_date = self.get_publish_dates(info_atto=info_atto)\n",
    "        link = self.get_oggetto_link(ogg_e=oggetto)\n",
    "        \n",
    "        return {link: dict(n_atto=n_atto,\n",
    "                           start_date=start_date,\n",
    "                           end_date=end_date)}\n",
    "\n",
    "    def get_dict_objects(self):\n",
    "        dict_ogg = {}\n",
    "        logging.info(f'Found {len(self.dict_links_oggetti)} oggetti')\n",
    "        for link, dict_info in self.dict_links_oggetti.items():\n",
    "            self.driver.get(link)\n",
    "\n",
    "            body_e = self.driver.find_element(By.CLASS_NAME, 'documento')\n",
    "            files_e = body_e.find_elements(By.TAG_NAME, 'a')\n",
    "\n",
    "            for f_e in files_e:\n",
    "                # Getting the sibling text where we can find the file name\n",
    "                sibling_text = driver.execute_script(\"\"\"\n",
    "                                                     var a = arguments[0];\n",
    "                                                     var text = a.nextSibling.nodeValue;\n",
    "                                                     return text;\n",
    "                                                     \"\"\", f_e).strip()\n",
    "\n",
    "                pattern_f_name = r'- (.*?) -'\n",
    "\n",
    "                # Find the file name\n",
    "                match = re.search(pattern_f_name, sibling_text)\n",
    "                \n",
    "                f_name = match.group(1)\n",
    "                f_link = f_e.get_attribute('href')\n",
    "\n",
    "                file_name = self.rename_file(f_name, f_link)\n",
    "\n",
    "                # Update dict_info with new keys and values\n",
    "                updated_dict_info = dict_info.copy()\n",
    "                updated_dict_info.update(dict(file_name=file_name,\n",
    "                                              link=f_link,\n",
    "                                              internal_path=self.download_file(file_name=file_name, link_ogg=f_link)))\n",
    "\n",
    "                dict_ogg[f_name] = updated_dict_info\n",
    "\n",
    "        return dict_ogg\n"
   ]
  },
  {
   "cell_type": "code",
   "execution_count": 119,
   "metadata": {},
   "outputs": [],
   "source": [
    "sections_manager = SectionsAlbo(driver_manager=driver_manager,\n",
    "                                section_otion='MAT01',\n",
    "                                dir_download=download_path,\n",
    "                                last_date_update=None)"
   ]
  },
  {
   "cell_type": "code",
   "execution_count": 120,
   "metadata": {},
   "outputs": [
    {
     "data": {
      "text/plain": [
       "{'https://servizionline.comune.arezzo.it/jalbopretorionew/AlboPretorio?servizio=dettaglio&idPratica=114186&': {'n_atto': '3060',\n",
       "  'start_date': datetime.datetime(2024, 5, 23, 0, 0),\n",
       "  'end_date': datetime.datetime(2024, 5, 31, 0, 0)},\n",
       " 'https://servizionline.comune.arezzo.it/jalbopretorionew/AlboPretorio?servizio=dettaglio&idPratica=114267&': {'n_atto': '3139',\n",
       "  'start_date': datetime.datetime(2024, 5, 23, 0, 0),\n",
       "  'end_date': datetime.datetime(2024, 5, 31, 0, 0)},\n",
       " 'https://servizionline.comune.arezzo.it/jalbopretorionew/AlboPretorio?servizio=dettaglio&idPratica=114268&': {'n_atto': '3140',\n",
       "  'start_date': datetime.datetime(2024, 5, 23, 0, 0),\n",
       "  'end_date': datetime.datetime(2024, 5, 31, 0, 0)},\n",
       " 'https://servizionline.comune.arezzo.it/jalbopretorionew/AlboPretorio?servizio=dettaglio&idPratica=114275&': {'n_atto': '3147',\n",
       "  'start_date': datetime.datetime(2024, 5, 24, 0, 0),\n",
       "  'end_date': datetime.datetime(2024, 6, 1, 0, 0)},\n",
       " 'https://servizionline.comune.arezzo.it/jalbopretorionew/AlboPretorio?servizio=dettaglio&idPratica=114276&': {'n_atto': '3148',\n",
       "  'start_date': datetime.datetime(2024, 5, 24, 0, 0),\n",
       "  'end_date': datetime.datetime(2024, 6, 1, 0, 0)},\n",
       " 'https://servizionline.comune.arezzo.it/jalbopretorionew/AlboPretorio?servizio=dettaglio&idPratica=114293&': {'n_atto': '3165',\n",
       "  'start_date': datetime.datetime(2024, 5, 27, 0, 0),\n",
       "  'end_date': datetime.datetime(2024, 6, 4, 0, 0)},\n",
       " 'https://servizionline.comune.arezzo.it/jalbopretorionew/AlboPretorio?servizio=dettaglio&idPratica=114294&': {'n_atto': '3166',\n",
       "  'start_date': datetime.datetime(2024, 5, 27, 0, 0),\n",
       "  'end_date': datetime.datetime(2024, 6, 4, 0, 0)},\n",
       " 'https://servizionline.comune.arezzo.it/jalbopretorionew/AlboPretorio?servizio=dettaglio&idPratica=114295&': {'n_atto': '3167',\n",
       "  'start_date': datetime.datetime(2024, 5, 27, 0, 0),\n",
       "  'end_date': datetime.datetime(2024, 6, 4, 0, 0)},\n",
       " 'https://servizionline.comune.arezzo.it/jalbopretorionew/AlboPretorio?servizio=dettaglio&idPratica=114318&': {'n_atto': '3190',\n",
       "  'start_date': datetime.datetime(2024, 5, 28, 0, 0),\n",
       "  'end_date': datetime.datetime(2024, 6, 5, 0, 0)},\n",
       " 'https://servizionline.comune.arezzo.it/jalbopretorionew/AlboPretorio?servizio=dettaglio&idPratica=114319&': {'n_atto': '3191',\n",
       "  'start_date': datetime.datetime(2024, 5, 28, 0, 0),\n",
       "  'end_date': datetime.datetime(2024, 6, 5, 0, 0)},\n",
       " 'https://servizionline.comune.arezzo.it/jalbopretorionew/AlboPretorio?servizio=dettaglio&idPratica=114365&': {'n_atto': '3237',\n",
       "  'start_date': datetime.datetime(2024, 5, 28, 0, 0),\n",
       "  'end_date': datetime.datetime(2024, 6, 5, 0, 0)},\n",
       " 'https://servizionline.comune.arezzo.it/jalbopretorionew/AlboPretorio?servizio=dettaglio&idPratica=114376&': {'n_atto': '3247',\n",
       "  'start_date': datetime.datetime(2024, 5, 29, 0, 0),\n",
       "  'end_date': datetime.datetime(2024, 6, 6, 0, 0)}}"
      ]
     },
     "execution_count": 120,
     "metadata": {},
     "output_type": "execute_result"
    }
   ],
   "source": [
    "sections_manager.dict_links_oggetti"
   ]
  },
  {
   "cell_type": "code",
   "execution_count": 121,
   "metadata": {},
   "outputs": [
    {
     "name": "stderr",
     "output_type": "stream",
     "text": [
      "INFO:root:Found 12 oggetti\n"
     ]
    },
    {
     "name": "stdout",
     "output_type": "stream",
     "text": [
      "- Matrimonio SCARANO Roberto e ACCIAI Giulia.pdf.p7m - 363,08 Kb\n",
      "- Pubblicazioni matrimonio DEL PACE Andrea e POMARANZI Nicla.pdf.p7m - 386,11 Kb\n",
      "- noferi.nardone.pdf.p7m - 48,18 Kb\n",
      "- Pubblicazioni di Matrimonio PROFICE Francesco e PICCINELLI Anna Emma.pdf.p7m - 374,36 Kb\n",
      "- pubbl.di matrimoni odi PERRONE e IANIRI.pdf.p7m - 462,48 Kb\n",
      "- Pubblicazioni matrimonio MAZZOLI David e MEARINI Patricia.pdf.p7m - 379,64 Kb\n",
      "- Pubblicazioni di Matrimonio GALLI Amerigo e PAGGINI Marzia.pdf.p7m - 376,46 Kb\n",
      "- Pubblicazioni di matrimonio SANTINELLI Mauro e CHECCARINI Paola.pdf.p7m - 441,34 Kb\n",
      "- Pubblicazioni di Matrimonio BEGLIOMINI Alberto e COMANDUCCI Ilaria.pdf.p7m - 379,98 Kb\n",
      "- Pubblicazioni di Matrimonio BALDI Daniele e PELUCCHINI Sara.pdf.p7m - 370,45 Kb\n",
      "- PUBBLICAZ. DI MATRIMONI ODI SCARAMUCCI E VANNACCI.pdf.p7m - 399,01 Kb\n",
      "- Pubblicazioni di matrimonio BRACALENTI Massimo e SBRAGI Michela.pdf.p7m - 385,70 Kb\n"
     ]
    },
    {
     "data": {
      "text/plain": [
       "{'Matrimonio SCARANO Roberto e ACCIAI Giulia.pdf.p7m': {'n_atto': '3060',\n",
       "  'start_date': datetime.datetime(2024, 5, 23, 0, 0),\n",
       "  'end_date': datetime.datetime(2024, 5, 31, 0, 0),\n",
       "  'file_name': '322c443a_Matrimonio SCARANO Roberto e ACCIAI Giulia.pdf.p7m',\n",
       "  'link': 'https://servizionline.comune.arezzo.it/jalbopretorionew/AlboPretorio?servizio=allegato&idDocumentale=316319',\n",
       "  'internal_path': WindowsPath('ap/322c443a_Matrimonio SCARANO Roberto e ACCIAI Giulia.pdf.p7m')},\n",
       " 'Pubblicazioni matrimonio DEL PACE Andrea e POMARANZI Nicla.pdf.p7m': {'n_atto': '3139',\n",
       "  'start_date': datetime.datetime(2024, 5, 23, 0, 0),\n",
       "  'end_date': datetime.datetime(2024, 5, 31, 0, 0),\n",
       "  'file_name': 'e0a24858_Pubblicazioni matrimonio DEL PACE Andrea e POMARANZI Nicla.pdf.p7m',\n",
       "  'link': 'https://servizionline.comune.arezzo.it/jalbopretorionew/AlboPretorio?servizio=allegato&idDocumentale=316585',\n",
       "  'internal_path': WindowsPath('ap/e0a24858_Pubblicazioni matrimonio DEL PACE Andrea e POMARANZI Nicla.pdf.p7m')},\n",
       " 'noferi.nardone.pdf.p7m': {'n_atto': '3140',\n",
       "  'start_date': datetime.datetime(2024, 5, 23, 0, 0),\n",
       "  'end_date': datetime.datetime(2024, 5, 31, 0, 0),\n",
       "  'file_name': '8b84f722_noferi.nardone.pdf.p7m',\n",
       "  'link': 'https://servizionline.comune.arezzo.it/jalbopretorionew/AlboPretorio?servizio=allegato&idDocumentale=316586',\n",
       "  'internal_path': WindowsPath('ap/8b84f722_noferi.nardone.pdf.p7m')},\n",
       " 'Pubblicazioni di Matrimonio PROFICE Francesco e PICCINELLI Anna Emma.pdf.p7m': {'n_atto': '3147',\n",
       "  'start_date': datetime.datetime(2024, 5, 24, 0, 0),\n",
       "  'end_date': datetime.datetime(2024, 6, 1, 0, 0),\n",
       "  'file_name': 'e5d6aeaa_Pubblicazioni di Matrimonio PROFICE Francesco e PICCINELLI Anna Emma.pdf.p7m',\n",
       "  'link': 'https://servizionline.comune.arezzo.it/jalbopretorionew/AlboPretorio?servizio=allegato&idDocumentale=316641',\n",
       "  'internal_path': WindowsPath('ap/e5d6aeaa_Pubblicazioni di Matrimonio PROFICE Francesco e PICCINELLI Anna Emma.pdf.p7m')},\n",
       " 'pubbl.di matrimoni odi PERRONE e IANIRI.pdf.p7m': {'n_atto': '3148',\n",
       "  'start_date': datetime.datetime(2024, 5, 24, 0, 0),\n",
       "  'end_date': datetime.datetime(2024, 6, 1, 0, 0),\n",
       "  'file_name': '38ad9254_pubbl.di matrimoni odi PERRONE e IANIRI.pdf.p7m',\n",
       "  'link': 'https://servizionline.comune.arezzo.it/jalbopretorionew/AlboPretorio?servizio=allegato&idDocumentale=316643',\n",
       "  'internal_path': WindowsPath('ap/38ad9254_pubbl.di matrimoni odi PERRONE e IANIRI.pdf.p7m')},\n",
       " 'Pubblicazioni matrimonio MAZZOLI David e MEARINI Patricia.pdf.p7m': {'n_atto': '3165',\n",
       "  'start_date': datetime.datetime(2024, 5, 27, 0, 0),\n",
       "  'end_date': datetime.datetime(2024, 6, 4, 0, 0),\n",
       "  'file_name': '6f83f4a7_Pubblicazioni matrimonio MAZZOLI David e MEARINI Patricia.pdf.p7m',\n",
       "  'link': 'https://servizionline.comune.arezzo.it/jalbopretorionew/AlboPretorio?servizio=allegato&idDocumentale=316730',\n",
       "  'internal_path': WindowsPath('ap/6f83f4a7_Pubblicazioni matrimonio MAZZOLI David e MEARINI Patricia.pdf.p7m')},\n",
       " 'Pubblicazioni di Matrimonio GALLI Amerigo e PAGGINI Marzia.pdf.p7m': {'n_atto': '3166',\n",
       "  'start_date': datetime.datetime(2024, 5, 27, 0, 0),\n",
       "  'end_date': datetime.datetime(2024, 6, 4, 0, 0),\n",
       "  'file_name': '60c9abe3_Pubblicazioni di Matrimonio GALLI Amerigo e PAGGINI Marzia.pdf.p7m',\n",
       "  'link': 'https://servizionline.comune.arezzo.it/jalbopretorionew/AlboPretorio?servizio=allegato&idDocumentale=316731',\n",
       "  'internal_path': WindowsPath('ap/60c9abe3_Pubblicazioni di Matrimonio GALLI Amerigo e PAGGINI Marzia.pdf.p7m')},\n",
       " 'Pubblicazioni di matrimonio SANTINELLI Mauro e CHECCARINI Paola.pdf.p7m': {'n_atto': '3167',\n",
       "  'start_date': datetime.datetime(2024, 5, 27, 0, 0),\n",
       "  'end_date': datetime.datetime(2024, 6, 4, 0, 0),\n",
       "  'file_name': '8546f69c_Pubblicazioni di matrimonio SANTINELLI Mauro e CHECCARINI Paola.pdf.p7m',\n",
       "  'link': 'https://servizionline.comune.arezzo.it/jalbopretorionew/AlboPretorio?servizio=allegato&idDocumentale=316738',\n",
       "  'internal_path': WindowsPath('ap/8546f69c_Pubblicazioni di matrimonio SANTINELLI Mauro e CHECCARINI Paola.pdf.p7m')},\n",
       " 'Pubblicazioni di Matrimonio BEGLIOMINI Alberto e COMANDUCCI Ilaria.pdf.p7m': {'n_atto': '3190',\n",
       "  'start_date': datetime.datetime(2024, 5, 28, 0, 0),\n",
       "  'end_date': datetime.datetime(2024, 6, 5, 0, 0),\n",
       "  'file_name': '76f30df0_Pubblicazioni di Matrimonio BEGLIOMINI Alberto e COMANDUCCI Ilaria.pdf.p7m',\n",
       "  'link': 'https://servizionline.comune.arezzo.it/jalbopretorionew/AlboPretorio?servizio=allegato&idDocumentale=316785',\n",
       "  'internal_path': WindowsPath('ap/76f30df0_Pubblicazioni di Matrimonio BEGLIOMINI Alberto e COMANDUCCI Ilaria.pdf.p7m')},\n",
       " 'Pubblicazioni di Matrimonio BALDI Daniele e PELUCCHINI Sara.pdf.p7m': {'n_atto': '3191',\n",
       "  'start_date': datetime.datetime(2024, 5, 28, 0, 0),\n",
       "  'end_date': datetime.datetime(2024, 6, 5, 0, 0),\n",
       "  'file_name': 'd7ef3584_Pubblicazioni di Matrimonio BALDI Daniele e PELUCCHINI Sara.pdf.p7m',\n",
       "  'link': 'https://servizionline.comune.arezzo.it/jalbopretorionew/AlboPretorio?servizio=allegato&idDocumentale=316786',\n",
       "  'internal_path': WindowsPath('ap/d7ef3584_Pubblicazioni di Matrimonio BALDI Daniele e PELUCCHINI Sara.pdf.p7m')},\n",
       " 'PUBBLICAZ. DI MATRIMONI ODI SCARAMUCCI E VANNACCI.pdf.p7m': {'n_atto': '3237',\n",
       "  'start_date': datetime.datetime(2024, 5, 28, 0, 0),\n",
       "  'end_date': datetime.datetime(2024, 6, 5, 0, 0),\n",
       "  'file_name': '8a13e00b_PUBBLICAZ. DI MATRIMONI ODI SCARAMUCCI E VANNACCI.pdf.p7m',\n",
       "  'link': 'https://servizionline.comune.arezzo.it/jalbopretorionew/AlboPretorio?servizio=allegato&idDocumentale=316890',\n",
       "  'internal_path': WindowsPath('ap/8a13e00b_PUBBLICAZ. DI MATRIMONI ODI SCARAMUCCI E VANNACCI.pdf.p7m')},\n",
       " 'Pubblicazioni di matrimonio BRACALENTI Massimo e SBRAGI Michela.pdf.p7m': {'n_atto': '3247',\n",
       "  'start_date': datetime.datetime(2024, 5, 29, 0, 0),\n",
       "  'end_date': datetime.datetime(2024, 6, 6, 0, 0),\n",
       "  'file_name': 'a1bea992_Pubblicazioni di matrimonio BRACALENTI Massimo e SBRAGI Michela.pdf.p7m',\n",
       "  'link': 'https://servizionline.comune.arezzo.it/jalbopretorionew/AlboPretorio?servizio=allegato&idDocumentale=316934',\n",
       "  'internal_path': WindowsPath('ap/a1bea992_Pubblicazioni di matrimonio BRACALENTI Massimo e SBRAGI Michela.pdf.p7m')}}"
      ]
     },
     "execution_count": 121,
     "metadata": {},
     "output_type": "execute_result"
    }
   ],
   "source": [
    "sections_manager.get_dict_objects()"
   ]
  },
  {
   "cell_type": "code",
   "execution_count": 90,
   "metadata": {},
   "outputs": [],
   "source": [
    "def get_all_sections(driver_manager: WebDriverManager,\n",
    "                     url_comune: str) -> dict:\n",
    "    \n",
    "    driver = driver_manager.get_driver(url_comune)\n",
    "\n",
    "    # find select menu\n",
    "    select_menu_e = driver.find_element(By.ID, 'tendinaTipoPratiche')\n",
    "\n",
    "    options_e = select_menu_e.find_elements(By.TAG_NAME, 'option')\n",
    "\n",
    "    options = [o.get_attribute('value') for o in options_e if o.get_attribute('value') != '']\n",
    "    sections_names = [o.text.strip() for o in options_e if o.text.strip() != 'Tutti']\n",
    "\n",
    "    return dict(map(lambda i,j : (i,j) , sections_names,options))\n",
    "    "
   ]
  },
  {
   "cell_type": "code",
   "execution_count": 91,
   "metadata": {},
   "outputs": [],
   "source": [
    "sections = get_all_sections(driver_manager=driver_manager,\n",
    "                            url_comune=url_comune)"
   ]
  },
  {
   "cell_type": "code",
   "execution_count": 123,
   "metadata": {},
   "outputs": [
    {
     "data": {
      "text/plain": [
       "{'Atti del Consiglio Comunale': 'CC',\n",
       " 'Atti della Giunta Municipale': 'GC',\n",
       " 'Autorizzazione': 'X02',\n",
       " 'Avviso': 'X03',\n",
       " 'Concessioni e Autorizzazioni': 'PM',\n",
       " 'Decreti del Sindaco': 'SD',\n",
       " 'Deliberazione di altro Ente': 'X09',\n",
       " 'Determinazioni Dirigenziali': 'D',\n",
       " 'Elenco': 'X11',\n",
       " 'Notifica': 'X13',\n",
       " 'Ordinanze del Dirigente': 'DO',\n",
       " 'Ordinanze del Sindaco': 'SO',\n",
       " 'Pubbl.Matrimonio ordinaria': 'MAT01'}"
      ]
     },
     "execution_count": 123,
     "metadata": {},
     "output_type": "execute_result"
    }
   ],
   "source": [
    "sections"
   ]
  },
  {
   "cell_type": "code",
   "execution_count": 124,
   "metadata": {},
   "outputs": [
    {
     "name": "stdout",
     "output_type": "stream",
     "text": [
      "Atti del Consiglio Comunale\n"
     ]
    },
    {
     "name": "stderr",
     "output_type": "stream",
     "text": [
      "INFO:root:Found 6 oggetti\n"
     ]
    },
    {
     "name": "stdout",
     "output_type": "stream",
     "text": [
      "Atti della Giunta Municipale\n"
     ]
    },
    {
     "name": "stderr",
     "output_type": "stream",
     "text": [
      "INFO:root:Found 48 oggetti\n"
     ]
    },
    {
     "name": "stdout",
     "output_type": "stream",
     "text": [
      "Autorizzazione\n"
     ]
    },
    {
     "name": "stderr",
     "output_type": "stream",
     "text": [
      "INFO:root:Found 1 oggetti\n"
     ]
    },
    {
     "name": "stdout",
     "output_type": "stream",
     "text": [
      "Avviso\n"
     ]
    },
    {
     "name": "stderr",
     "output_type": "stream",
     "text": [
      "WARNING:root:SectionsAlbo: Could not get n_atto: 'NoneType' object has no attribute 'group'\n",
      "INFO:root:Found 18 oggetti\n"
     ]
    },
    {
     "name": "stdout",
     "output_type": "stream",
     "text": [
      "Concessioni e Autorizzazioni\n"
     ]
    },
    {
     "name": "stderr",
     "output_type": "stream",
     "text": [
      "INFO:root:Found 111 oggetti\n"
     ]
    },
    {
     "name": "stdout",
     "output_type": "stream",
     "text": [
      "Decreti del Sindaco\n"
     ]
    },
    {
     "name": "stderr",
     "output_type": "stream",
     "text": [
      "INFO:root:Found 1 oggetti\n"
     ]
    },
    {
     "name": "stdout",
     "output_type": "stream",
     "text": [
      "Deliberazione di altro Ente\n"
     ]
    },
    {
     "name": "stderr",
     "output_type": "stream",
     "text": [
      "INFO:root:Found 4 oggetti\n"
     ]
    },
    {
     "name": "stdout",
     "output_type": "stream",
     "text": [
      "Determinazioni Dirigenziali\n"
     ]
    },
    {
     "name": "stderr",
     "output_type": "stream",
     "text": [
      "INFO:root:Found 147 oggetti\n"
     ]
    },
    {
     "name": "stdout",
     "output_type": "stream",
     "text": [
      "Elenco\n"
     ]
    },
    {
     "name": "stderr",
     "output_type": "stream",
     "text": [
      "INFO:root:Found 12 oggetti\n"
     ]
    },
    {
     "name": "stdout",
     "output_type": "stream",
     "text": [
      "Notifica\n"
     ]
    },
    {
     "name": "stderr",
     "output_type": "stream",
     "text": [
      "INFO:root:Found 2 oggetti\n"
     ]
    },
    {
     "name": "stdout",
     "output_type": "stream",
     "text": [
      "Ordinanze del Dirigente\n"
     ]
    },
    {
     "name": "stderr",
     "output_type": "stream",
     "text": [
      "WARNING:root:SectionsAlbo: Could not get n_atto: 'NoneType' object has no attribute 'group'\n",
      "INFO:root:Found 72 oggetti\n"
     ]
    },
    {
     "name": "stdout",
     "output_type": "stream",
     "text": [
      "Ordinanze del Sindaco\n"
     ]
    },
    {
     "name": "stderr",
     "output_type": "stream",
     "text": [
      "INFO:root:Found 2 oggetti\n"
     ]
    },
    {
     "name": "stdout",
     "output_type": "stream",
     "text": [
      "Pubbl.Matrimonio ordinaria\n"
     ]
    },
    {
     "name": "stderr",
     "output_type": "stream",
     "text": [
      "INFO:root:Found 12 oggetti\n"
     ]
    }
   ],
   "source": [
    "for s, opt in sections.items():\n",
    "    print(s)\n",
    "    dir_download_section = f'{download_path}/{s}'\n",
    "    SectionsAlbo(driver_manager=driver_manager,\n",
    "                 section_otion=opt,\n",
    "                 dir_download=dir_download_section,\n",
    "                 last_date_update=None).get_dict_objects()"
   ]
  },
  {
   "cell_type": "code",
   "execution_count": null,
   "metadata": {},
   "outputs": [],
   "source": []
  }
 ],
 "metadata": {
  "kernelspec": {
   "display_name": "Python 3",
   "language": "python",
   "name": "python3"
  },
  "language_info": {
   "codemirror_mode": {
    "name": "ipython",
    "version": 3
   },
   "file_extension": ".py",
   "mimetype": "text/x-python",
   "name": "python",
   "nbconvert_exporter": "python",
   "pygments_lexer": "ipython3",
   "version": "3.10.10"
  }
 },
 "nbformat": 4,
 "nbformat_minor": 2
}
