{
 "cells": [
  {
   "cell_type": "code",
   "execution_count": 1,
   "metadata": {},
   "outputs": [],
   "source": [
    "from datetime import datetime,date\n",
    "from functools import wraps\n",
    "from selenium.webdriver import Chrome\n",
    "from selenium.webdriver.chrome.service import Service\n",
    "from selenium.webdriver.common.by import By\n",
    "from selenium.webdriver.common.action_chains import ActionChains\n",
    "from selenium.webdriver.chrome.options import Options\n",
    "from selenium.common.exceptions import NoSuchElementException, NoSuchWindowException, ElementNotInteractableException, StaleElementReferenceException\n",
    "from selenium.webdriver.remote.webelement import WebElement\n",
    "from selenium.webdriver.support.ui import Select, WebDriverWait\n",
    "from selenium.webdriver.support import expected_conditions as EC\n",
    "from urllib.parse import urlparse, unquote\n",
    "\n",
    "import csv\n",
    "import hashlib\n",
    "import logging\n",
    "import os\n",
    "import requests\n",
    "import re\n",
    "import time\n",
    "\n",
    "from pathlib import Path\n",
    "from typing import Tuple"
   ]
  },
  {
   "cell_type": "code",
   "execution_count": 2,
   "metadata": {},
   "outputs": [],
   "source": [
    "logging.basicConfig()\n",
    "logging.getLogger().setLevel(logging.INFO)"
   ]
  },
  {
   "cell_type": "code",
   "execution_count": 3,
   "metadata": {},
   "outputs": [],
   "source": [
    "comune = 'brindisi'\n",
    "download_path = './ap'\n",
    "url_comune = 'https://servizi.comune.brindisi.it/openweb/albo/albo_pretorio.php'"
   ]
  },
  {
   "cell_type": "code",
   "execution_count": 4,
   "metadata": {},
   "outputs": [],
   "source": [
    "def retry(max_attempts=3, delay=10, exceptions=(Exception,)):\n",
    "    def decorator(func):\n",
    "        @wraps(func)\n",
    "        def wrapper(*args, **kwargs):\n",
    "            attempts = 0\n",
    "            while attempts < max_attempts:\n",
    "                try:\n",
    "                    return func(*args, **kwargs)\n",
    "                except exceptions as e:\n",
    "                    attempts += 1\n",
    "                    logging.info(f\"Attempt {attempts} failed:\", e)\n",
    "                    time.sleep(delay)\n",
    "            raise RuntimeError(f\"Function {func.__name__} failed after {max_attempts} attempts\")\n",
    "        return wrapper\n",
    "    return decorator"
   ]
  },
  {
   "cell_type": "markdown",
   "metadata": {},
   "source": [
    "# Driver manager"
   ]
  },
  {
   "cell_type": "code",
   "execution_count": 5,
   "metadata": {},
   "outputs": [],
   "source": [
    "class WebDriverManager:\n",
    "    def __init__(self, DIR_DOWNLOAD):\n",
    "        self.driver = None\n",
    "\n",
    "    def start_driver(self, url):\n",
    "        if not self.driver or (self.is_driver_open() == False):\n",
    "            opts = Options()\n",
    "            # start driver\n",
    "            s = Service(r\".\\chromedriver.exe\")\n",
    "            prefs = {\"download.default_directory\": f'{download_path}',\n",
    "                    \"directory_upgrade\": True,\n",
    "                    \"profile.default_content_settings.popups\": 0}\n",
    "            opts.add_experimental_option(\"prefs\", prefs)\n",
    "            self.driver = Chrome(service=s, options=opts)\n",
    "\n",
    "            # opts = Options()\n",
    "            # service = Service()\n",
    "\n",
    "            # prefs = {\"download.default_directory\": f'{download_path}',\n",
    "            #         \"directory_upgrade\": True,\n",
    "            #         \"profile.default_content_settings.popups\": 0,\n",
    "            #         \"plugins.always_open_pdf_externally\": True  # It will not show PDF directly in chrome\n",
    "            #         }\n",
    "\n",
    "            # opts.add_experimental_option('prefs', prefs)\n",
    "            # opts.add_argument('--no-sandbox')\n",
    "            # opts.add_argument('--headless')\n",
    "            # opts.add_argument('--disable-gpu')\n",
    "            # opts.add_argument('--disable-dev-shm-usage')\n",
    "\n",
    "            # self.driver = Chrome(service=service,\n",
    "            #                 options=opts)\n",
    "\n",
    "            self.driver.get(url)\n",
    "            # self.check_cookies()\n",
    "            time.sleep(10) # Waiting for main page to load\n",
    "        return self.driver  # Return the driver instance\n",
    "        \n",
    "    # No cookies button (?)\n",
    "    # def check_cookies(self):\n",
    "    #     try: \n",
    "    #         time.sleep(2)\n",
    "    #         cookie_button = self.driver.find_element(By.CLASS_NAME, \"btn.btn-primary.mr-2\")\n",
    "\n",
    "    #         cookie_button.click()\n",
    "    #     except NoSuchElementException:\n",
    "    #         logging.info(f'Cookies button was not found')\n",
    "    #         pass\n",
    "    #     except ElementNotInteractableException:\n",
    "    #         pass\n",
    "\n",
    "    def is_driver_open(self):\n",
    "        if self.driver:\n",
    "            try:\n",
    "                # Access a property or method of the driver\n",
    "                self.driver.current_url\n",
    "                return True\n",
    "            except NoSuchWindowException:\n",
    "                return False\n",
    "            except Exception as e:\n",
    "                logging.info(f'Driver seems to be closed: {e}')\n",
    "                return False\n",
    "        return False\n",
    "    \n",
    "    def get_driver(self, link):\n",
    "        if not self.is_driver_open():\n",
    "            logging.warning(f'Driver is not responding, reopening')\n",
    "            self.driver = self.start_driver(link)\n",
    "        # else: \n",
    "        #     self.driver.get(link)\n",
    "            # self.check_cookies()\n",
    "\n",
    "        return self.driver\n",
    "\n",
    "    def close_driver(self):\n",
    "        if self.driver:\n",
    "            self.driver.quit()\n",
    "            self.driver = None"
   ]
  },
  {
   "cell_type": "code",
   "execution_count": 6,
   "metadata": {},
   "outputs": [],
   "source": [
    "driver_manager = WebDriverManager(download_path)"
   ]
  },
  {
   "cell_type": "code",
   "execution_count": 7,
   "metadata": {},
   "outputs": [
    {
     "name": "stderr",
     "output_type": "stream",
     "text": [
      "WARNING:root:Driver is not responding, reopening\n"
     ]
    }
   ],
   "source": [
    "driver = driver_manager.get_driver(url_comune)"
   ]
  },
  {
   "cell_type": "markdown",
   "metadata": {},
   "source": [
    "# Loop through all pages of a section"
   ]
  },
  {
   "cell_type": "code",
   "execution_count": 8,
   "metadata": {},
   "outputs": [],
   "source": [
    "body_e = driver.find_element(By.ID, 'tabella_albo')\n",
    "\n",
    "rows_e = body_e.find_elements(By.CLASS_NAME, 'paginated_element')"
   ]
  },
  {
   "cell_type": "markdown",
   "metadata": {},
   "source": [
    "## Processing dates"
   ]
  },
  {
   "cell_type": "code",
   "execution_count": 9,
   "metadata": {},
   "outputs": [
    {
     "name": "stdout",
     "output_type": "stream",
     "text": [
      "06/06/2024 14/06/2024\n",
      "06/06/2024 21/06/2024\n",
      "06/06/2024 21/06/2024\n",
      "06/06/2024 21/06/2024\n",
      "06/06/2024 21/06/2024\n",
      "06/06/2024 21/06/2024\n",
      "06/06/2024 06/07/2024\n",
      "05/06/2024 06/06/2024\n",
      "05/06/2024 06/06/2024\n",
      "05/06/2024 06/06/2024\n",
      "05/06/2024 06/06/2024\n",
      "05/06/2024 06/06/2024\n",
      "05/06/2024 06/06/2024\n",
      "05/06/2024 06/06/2024\n",
      "05/06/2024 06/06/2024\n"
     ]
    }
   ],
   "source": [
    "for r_e in rows_e:\n",
    "    # Find the div containing 'Data affissione:'\n",
    "    data_affissione_div = r_e.find_element(By.XPATH, \".//div[label/text()='Data affissione:']\")\n",
    "    # data_affissione_text = data_affissione_div.text.split(\"Data affissione:\")[1].strip()\n",
    "\n",
    "    # Find the div containing 'Fine Pubblicazione:'\n",
    "    fine_pubblicazione_div = r_e.find_element(By.XPATH, \".//div[label/text()='Fine Pubblicazione:']\")\n",
    "    # fine_pubblicazione_text = fine_pubblicazione_div.text.split(\"Fine Pubblicazione:\")[1].strip()\n",
    "\n",
    "    print(data_affissione_div.text, fine_pubblicazione_div.text)\n",
    "    "
   ]
  },
  {
   "cell_type": "code",
   "execution_count": 10,
   "metadata": {},
   "outputs": [],
   "source": [
    "# while True:\n",
    "#     try:\n",
    "#         # Waiting for the tabella element\n",
    "#         body_e = WebDriverWait(driver, 10).until(\n",
    "#             EC.presence_of_element_located((By.ID, 'tabella_albo'))\n",
    "#         )\n",
    "\n",
    "#         # Getting each row, one for each atto\n",
    "#         rows_e = body_e.find_elements(By.CLASS_NAME, 'paginated_element')\n",
    "\n",
    "#         # Process rows\n",
    "#         if rows_e:\n",
    "#             for r_e in rows_e:\n",
    "#                 try:\n",
    "#                     progressivo = r_e.find_element(By.TAG_NAME, 'div').text\n",
    "#                     print(progressivo)\n",
    "#                 except StaleElementReferenceException:\n",
    "#                     # Skip this row if it became stale\n",
    "#                     continue\n",
    "#         else:\n",
    "#             break\n",
    "\n",
    "#         # Finding next page button\n",
    "#         next_button = WebDriverWait(driver, 10).until(\n",
    "#             EC.element_to_be_clickable((By.XPATH, \"//a[@class='button' and @title='Successiva']\"))\n",
    "#         )\n",
    "\n",
    "#         # Use JavaScript to click\n",
    "#         driver.execute_script(\"arguments[0].click();\", next_button)\n",
    "\n",
    "#         # Waiting for the new content to load\n",
    "#         time.sleep(2)\n",
    "\n",
    "#     except Exception as e:\n",
    "#         print(\"No more pages or an error occurred:\", e)\n",
    "#         break\n"
   ]
  },
  {
   "cell_type": "markdown",
   "metadata": {},
   "source": [
    "## Getting pubblica number"
   ]
  },
  {
   "cell_type": "code",
   "execution_count": 11,
   "metadata": {},
   "outputs": [],
   "source": [
    "body_e = driver.find_element(By.ID, 'tabella_albo')\n",
    "\n",
    "rows_e = body_e.find_elements(By.CLASS_NAME, 'paginated_element')"
   ]
  },
  {
   "cell_type": "code",
   "execution_count": 12,
   "metadata": {},
   "outputs": [
    {
     "name": "stdout",
     "output_type": "stream",
     "text": [
      "2024/0002737\n",
      "2024/0002736\n",
      "2024/0002735\n",
      "2024/0002734\n",
      "2024/0002733\n",
      "2024/0002732\n",
      "2024/0002731\n",
      "2024/0002730\n",
      "2024/0002729\n",
      "2024/0002728\n",
      "2024/0002727\n",
      "2024/0002726\n",
      "2024/0002725\n",
      "2024/0002724\n",
      "2024/0002723\n"
     ]
    }
   ],
   "source": [
    "for r_e in rows_e:\n",
    "    # Find the div containing 'Numero progressivo:'\n",
    "    pubblica_n = r_e.find_element(By.XPATH, \".//div[label/text()='Numero progressivo:']\")\n",
    "\n",
    "    print(pubblica_n.text)"
   ]
  },
  {
   "cell_type": "code",
   "execution_count": 47,
   "metadata": {},
   "outputs": [],
   "source": [
    "def get_filename_from_cd(cd):\n",
    "    if not cd:\n",
    "        return None\n",
    "    fname = None\n",
    "    if 'filename=' in cd:\n",
    "        fname = cd.split('filename=')[1]\n",
    "        if '\"' in fname:\n",
    "            fname = fname.split('\"')[1]\n",
    "        else:\n",
    "            fname = fname.split(';')[0].strip()\n",
    "    return fname"
   ]
  },
  {
   "cell_type": "code",
   "execution_count": 56,
   "metadata": {},
   "outputs": [],
   "source": [
    "def download_single_file_external_page(link_file_external: str) -> None:\n",
    "    try:\n",
    "        driver.get(link_file_external)\n",
    "        scarica_button = driver.find_element(By.CLASS_NAME, 'btn.btn-primary')\n",
    "        link_file = scarica_button.get_attribute('href')\n",
    "\n",
    "        # Send a HEAD request to check the content type\n",
    "        response = requests.head(link_file, allow_redirects=True)\n",
    "        \n",
    "        if 'Content-Type' in response.headers:\n",
    "            content_type = response.headers['Content-Type']\n",
    "            if 'application/pdf' in content_type:\n",
    "                # This is a PDF file, download it\n",
    "                response = requests.get(link_file)\n",
    "\n",
    "                cd = response.headers.get('Content-Disposition')\n",
    "                file_name = get_filename_from_cd(cd)\n",
    "                \n",
    "                with open(file_name, 'wb') as file:\n",
    "                    file.write(response.content)\n",
    "    except Exception as e:\n",
    "        logging.info(f'Could not get file from external link: {e}')\n"
   ]
  },
  {
   "cell_type": "code",
   "execution_count": 57,
   "metadata": {},
   "outputs": [],
   "source": [
    "def download_single_file_atto_page(link: str):\n",
    "    driver.get(link)\n",
    "        \n",
    "    # Send a HEAD request to check the content type\n",
    "    response = requests.head(link, allow_redirects=True)\n",
    "    \n",
    "    if 'Content-Type' in response.headers:\n",
    "        content_type = response.headers['Content-Type']\n",
    "        if 'application/pdf' in content_type:\n",
    "            # This is a PDF file, download it\n",
    "            response = requests.get(link)\n",
    "\n",
    "            cd = response.headers.get('Content-Disposition')\n",
    "            file_name = get_filename_from_cd(cd)\n",
    "\n",
    "            with open(file_name, 'wb') as file:\n",
    "                file.write(response.content)\n",
    "        else:\n",
    "            download_single_file_external_page(link_file_external=link)\n",
    "    else:\n",
    "        print(f\"No Content-Type header: {link}\")"
   ]
  },
  {
   "cell_type": "code",
   "execution_count": 58,
   "metadata": {},
   "outputs": [],
   "source": [
    "def try_download_file():\n",
    "    try:\n",
    "        body_e = driver.find_element(By.CLASS_NAME, 'card-body.pe-0.ps-4.ps-md-5')\n",
    "\n",
    "        # Find the link element\n",
    "        list_link_e = body_e.find_elements(By.TAG_NAME, 'a')\n",
    "        list_link = [l_e.get_attribute('href') for l_e in list_link_e]\n",
    "\n",
    "        print(f'Found {len(list_link_e)} elements')\n",
    "        for l in list_link:\n",
    "            download_single_file_atto_page(l)\n",
    "\n",
    "    except Exception as e:\n",
    "        logging.warning(f'Could not download files: {e}')"
   ]
  },
  {
   "cell_type": "markdown",
   "metadata": {},
   "source": [
    "# Downloading files"
   ]
  },
  {
   "cell_type": "code",
   "execution_count": 59,
   "metadata": {},
   "outputs": [],
   "source": [
    "# body_e = driver.find_element(By.ID, 'tabella_albo')\n",
    "\n",
    "# rows_e = body_e.find_elements(By.CLASS_NAME, 'paginated_element')"
   ]
  },
  {
   "cell_type": "code",
   "execution_count": 60,
   "metadata": {},
   "outputs": [],
   "source": [
    "# links_atti = [r_e.find_element(By.TAG_NAME, 'a').get_attribute('href') for r_e in rows_e]"
   ]
  },
  {
   "cell_type": "code",
   "execution_count": 61,
   "metadata": {},
   "outputs": [],
   "source": [
    "# links_atti"
   ]
  },
  {
   "cell_type": "code",
   "execution_count": 62,
   "metadata": {},
   "outputs": [],
   "source": [
    "# for link in links_atti:\n",
    "#     driver.get(link)\n",
    "#     try_download_file()"
   ]
  },
  {
   "cell_type": "code",
   "execution_count": 63,
   "metadata": {},
   "outputs": [
    {
     "name": "stdout",
     "output_type": "stream",
     "text": [
      "Found 4 elements\n"
     ]
    }
   ],
   "source": [
    "driver.get('https://servizi.comune.brindisi.it/openweb/albo/albo_dettagli.php?id=11479')\n",
    "try_download_file()"
   ]
  },
  {
   "cell_type": "markdown",
   "metadata": {},
   "source": [
    "# Class oggetti Ricerca"
   ]
  },
  {
   "cell_type": "code",
   "execution_count": null,
   "metadata": {},
   "outputs": [],
   "source": [
    "class SectionsAlbo:\n",
    "    def __init__(self, driver_manager: WebDriverManager, section_otion: str, dir_download: str, last_date_update: datetime):\n",
    "        self.driver_manager = driver_manager\n",
    "        self.driver = self.get_section(section_option=section_otion)\n",
    "        self.dir_download = self.check_dir_download(dir_download)\n",
    "        self.last_date_update = last_date_update\n",
    "        self.dict_links_oggetti = self.loop_all_pages()\n",
    "\n",
    "\n",
    "    def check_dir_download(self, dir_download):\n",
    "        # Creating directory if does not exist:\n",
    "        if not os.path.exists(dir_download):\n",
    "            os.makedirs(dir_download)\n",
    "        return dir_download\n",
    "    \n",
    "\n",
    "    def get_n_atto(self, ogg_e: WebElement)->str:\n",
    "        try: #TODO\n",
    "            pass\n",
    "        except Exception as e:\n",
    "            logging.warning(f'SectionsAlbo: Could not get n_atto: {e}')\n",
    "\n",
    "\n",
    "    def get_start_date(self, ogg_e: WebElement) -> datetime:\n",
    "        try: #TODO\n",
    "            pass\n",
    "        except Exception as e:\n",
    "            logging.warning(f'SectionsAlbo: Could not get start date: {e}')\n",
    "\n",
    "    \n",
    "    def get_end_date(self, ogg_e: WebElement) -> datetime:\n",
    "        try: #TODO\n",
    "            pass\n",
    "        except Exception as e:\n",
    "            logging.warning(f'SectionsAlbo: Could not get end date: {e}')\n",
    "\n",
    "    \n",
    "    def get_oggetto_link(self, ogg_e: WebElement)->str:\n",
    "        try:\n",
    "            a_element = ogg_e.find_element(By.TAG_NAME, 'a')\n",
    "            return a_element.get_attribute('href')\n",
    "\n",
    "        except Exception as e:\n",
    "            logging.warning(f'SectionsAlbo: Could not get link from oggetto {e}')\n",
    "        pass\n",
    "\n",
    "\n",
    "    @staticmethod\n",
    "    def rename_file(file_name:str, link_ogg: str)->str:\n",
    "        # Generate a unique identifier for the file\n",
    "        id = hashlib.sha256(link_ogg.encode()).hexdigest()[:8]\n",
    "\n",
    "        return f'{id}_{file_name}'\n",
    "    \n",
    "\n",
    "    def download_file(self, file_name:str, link_ogg:str)->Path:\n",
    "        try: \n",
    "            # Download the file\n",
    "            response = requests.get(link_ogg)\n",
    "\n",
    "            # Construct the full path of the file\n",
    "            file_path = Path(self.dir_download, file_name)\n",
    "\n",
    "            # Save the file\n",
    "            with open(file_path, 'wb') as f:\n",
    "                f.write(response.content)\n",
    "            \n",
    "            return file_path\n",
    "        except Exception as e:\n",
    "            logging.warning(f'SectionsAlbo: It was not possible to download file: {e}')  \n",
    "        pass\n",
    "\n",
    "\n",
    "    # def get_atti_from_page(self) -> dict:\n",
    "    #     try:\n",
    "    #         all_oggetti_section = {}\n",
    "    #         body_e = self.driver.find_element(By.CLASS_NAME, 'it-list-wrapper')\n",
    "\n",
    "    #         oggetti_e  = body_e.find_elements(By.XPATH, './ul/li')\n",
    "\n",
    "    #         for ogg in oggetti_e:\n",
    "    #             info_atto = ogg.find_element(By.CLASS_NAME, 'link-sublist').text\n",
    "    #             start_date, _ = self.get_publish_dates(info_atto=info_atto)\n",
    "    #             if (self.last_date_update == None) or (self.last_date_update < start_date):\n",
    "    #                 dict_ogg = self.get_main_info_oggetto(oggetto=ogg, \n",
    "    #                                                       info_atto=info_atto)\n",
    "\n",
    "    #                 all_oggetti_section.update(dict_ogg)\n",
    "            \n",
    "    #         return all_oggetti_section\n",
    "    #     except Exception as e:\n",
    "    #         logging.warning(f'SectionsAlbo: Could not get the atti from this page: {e}')\n",
    "\n",
    "\n",
    "    # def loop_all_pages(self) -> dict:\n",
    "    #     try: \n",
    "    #         all_oggetti_dict = {}\n",
    "    #         # selector for page number to get all options\n",
    "    #         page_s_e = self.driver.find_element(By.ID, 'range_pagina')\n",
    "\n",
    "    #         pages_e = page_s_e.find_elements(By.TAG_NAME, 'option')\n",
    "\n",
    "    #         pages = [p.get_attribute('value') for p in pages_e if p.get_attribute('value') != '']\n",
    "\n",
    "    #         for p in pages:\n",
    "    #             # Finding page selector in the given page\n",
    "    #             page_s_e = driver.find_element(By.ID, 'range_pagina')\n",
    "\n",
    "    #             # Using selenium create a select menu with each element\n",
    "    #             page_select = Select(page_s_e)\n",
    "                \n",
    "    #             # Selecting each page\n",
    "    #             page_select.select_by_value(p)\n",
    "\n",
    "    #             time.sleep(2)\n",
    "\n",
    "    #             dict_section = self.get_atti_from_page()\n",
    "    #             all_oggetti_dict.update(dict_section)\n",
    "\n",
    "    #         return all_oggetti_dict\n",
    "\n",
    "    #     except NoSuchElementException:\n",
    "    #         pass\n",
    "    #         return {}\n",
    "    #     except Exception as e:\n",
    "    #         logging.warning(f'OggetiRicercaAlbo: Could not get all page numbers: {e}')\n",
    "    #         return {}\n",
    "        \n",
    "\n",
    "    def get_main_info_oggetto(self, oggetto: WebElement, info_atto: str) -> dict:\n",
    "        n_atto = self.get_n_atto(info_atto=info_atto)\n",
    "        start_date = self.get_start_date(info_atto=info_atto)\n",
    "        end_date = self.get_end_date(info_atto=info_atto)\n",
    "        link = self.get_oggetto_link(ogg_e=oggetto)\n",
    "        \n",
    "        return {link: dict(n_atto=n_atto,\n",
    "                           start_date=start_date,\n",
    "                           end_date=end_date)}\n",
    "\n",
    "\n",
    "    def get_dict_objects(self):\n",
    "        dict_ogg = {}\n",
    "        logging.info(f'Found {len(self.dict_links_oggetti)} oggetti')\n",
    "        for link, dict_info in self.dict_links_oggetti.items():\n",
    "            self.driver.get(link)\n",
    "\n",
    "            body_e = self.driver.find_element(By.CLASS_NAME, 'documento')\n",
    "            files_e = body_e.find_elements(By.TAG_NAME, 'a')\n",
    "\n",
    "            for f_e in files_e:\n",
    "                # Getting the sibling text where we can find the file name\n",
    "                sibling_text = driver.execute_script(\"\"\"\n",
    "                                                     var a = arguments[0];\n",
    "                                                     var text = a.nextSibling.nodeValue;\n",
    "                                                     return text;\n",
    "                                                     \"\"\", f_e).strip()\n",
    "\n",
    "                pattern_f_name = r'- (.*?) -'\n",
    "\n",
    "                # Find the file name\n",
    "                match = re.search(pattern_f_name, sibling_text)\n",
    "                \n",
    "                f_name = match.group(1)\n",
    "                f_link = f_e.get_attribute('href')\n",
    "\n",
    "                file_name = self.rename_file(f_name, f_link)\n",
    "\n",
    "                # Update dict_info with new keys and values\n",
    "                updated_dict_info = dict_info.copy()\n",
    "                updated_dict_info.update(dict(file_name=file_name,\n",
    "                                              link=f_link,\n",
    "                                              internal_path=self.download_file(file_name=file_name, link_ogg=f_link)))\n",
    "\n",
    "                dict_ogg[f_name] = updated_dict_info\n",
    "\n",
    "        return dict_ogg\n"
   ]
  },
  {
   "cell_type": "code",
   "execution_count": null,
   "metadata": {},
   "outputs": [],
   "source": [
    "sections_manager = SectionsAlbo(driver_manager=driver_manager,\n",
    "                                section_otion='MAT01',\n",
    "                                dir_download=download_path,\n",
    "                                last_date_update=None)"
   ]
  },
  {
   "cell_type": "code",
   "execution_count": null,
   "metadata": {},
   "outputs": [],
   "source": [
    "sections_manager.dict_links_oggetti"
   ]
  },
  {
   "cell_type": "code",
   "execution_count": null,
   "metadata": {},
   "outputs": [],
   "source": [
    "sections_manager.get_dict_objects()"
   ]
  },
  {
   "cell_type": "code",
   "execution_count": null,
   "metadata": {},
   "outputs": [],
   "source": [
    "def get_all_sections(driver_manager: WebDriverManager,\n",
    "                     url_comune: str) -> dict:\n",
    "    \n",
    "    driver = driver_manager.get_driver(url_comune)\n",
    "\n",
    "    # find select menu\n",
    "    select_menu_e = driver.find_element(By.ID, 'tendinaTipoPratiche')\n",
    "\n",
    "    options_e = select_menu_e.find_elements(By.TAG_NAME, 'option')\n",
    "\n",
    "    options = [o.get_attribute('value') for o in options_e if o.get_attribute('value') != '']\n",
    "    sections_names = [o.text.strip() for o in options_e if o.text.strip() != 'Tutti']\n",
    "\n",
    "    return dict(map(lambda i,j : (i,j) , sections_names,options))\n",
    "    "
   ]
  },
  {
   "cell_type": "code",
   "execution_count": null,
   "metadata": {},
   "outputs": [],
   "source": [
    "sections = get_all_sections(driver_manager=driver_manager,\n",
    "                            url_comune=url_comune)"
   ]
  },
  {
   "cell_type": "code",
   "execution_count": null,
   "metadata": {},
   "outputs": [],
   "source": [
    "sections"
   ]
  },
  {
   "cell_type": "code",
   "execution_count": null,
   "metadata": {},
   "outputs": [],
   "source": [
    "for s, opt in sections.items():\n",
    "    print(s)\n",
    "    dir_download_section = f'{download_path}/{s}'\n",
    "    SectionsAlbo(driver_manager=driver_manager,\n",
    "                 section_otion=opt,\n",
    "                 dir_download=dir_download_section,\n",
    "                 last_date_update=None).get_dict_objects()"
   ]
  },
  {
   "cell_type": "code",
   "execution_count": null,
   "metadata": {},
   "outputs": [],
   "source": []
  }
 ],
 "metadata": {
  "kernelspec": {
   "display_name": "Python 3",
   "language": "python",
   "name": "python3"
  },
  "language_info": {
   "codemirror_mode": {
    "name": "ipython",
    "version": 3
   },
   "file_extension": ".py",
   "mimetype": "text/x-python",
   "name": "python",
   "nbconvert_exporter": "python",
   "pygments_lexer": "ipython3",
   "version": "3.10.10"
  }
 },
 "nbformat": 4,
 "nbformat_minor": 2
}
