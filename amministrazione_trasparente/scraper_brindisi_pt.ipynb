{
 "cells": [
  {
   "cell_type": "code",
   "execution_count": 77,
   "metadata": {},
   "outputs": [],
   "source": [
    "from datetime import datetime,date\n",
    "from functools import wraps\n",
    "from selenium.webdriver import Chrome\n",
    "from selenium.webdriver.chrome.service import Service\n",
    "from selenium.webdriver.common.by import By\n",
    "from selenium.webdriver.common.action_chains import ActionChains\n",
    "from selenium.webdriver.chrome.options import Options\n",
    "from selenium.common.exceptions import NoSuchElementException, NoSuchWindowException, StaleElementReferenceException, InvalidSessionIdException\n",
    "from selenium.webdriver.remote.webelement import WebElement\n",
    "from selenium.webdriver.support.ui import Select, WebDriverWait\n",
    "from selenium.webdriver.support import expected_conditions as EC\n",
    "from urllib.parse import urlparse, unquote\n",
    "\n",
    "import csv\n",
    "import hashlib\n",
    "import logging\n",
    "import os\n",
    "import requests\n",
    "import re\n",
    "import time\n",
    "import pdb\n",
    "\n",
    "from pathlib import Path\n",
    "from typing import Tuple, Union"
   ]
  },
  {
   "cell_type": "code",
   "execution_count": 78,
   "metadata": {},
   "outputs": [],
   "source": [
    "logging.basicConfig()\n",
    "logging.getLogger().setLevel(logging.INFO)"
   ]
  },
  {
   "cell_type": "code",
   "execution_count": 79,
   "metadata": {},
   "outputs": [],
   "source": [
    "comune = 'arezzo'\n",
    "download_path = './pt'\n",
    "url_comune = 'https://www.comune.arezzo.it/area-tematica/amministrazione-trasparente'"
   ]
  },
  {
   "cell_type": "code",
   "execution_count": 80,
   "metadata": {},
   "outputs": [],
   "source": [
    "def retry(max_attempts=3, delay=10, exceptions=(Exception,)):\n",
    "    def decorator(func):\n",
    "        @wraps(func)\n",
    "        def wrapper(*args, **kwargs):\n",
    "            attempts = 0\n",
    "            while attempts < max_attempts:\n",
    "                try:\n",
    "                    return func(*args, **kwargs)\n",
    "                except exceptions as e:\n",
    "                    attempts += 1\n",
    "                    logging.info(f\"Attempt {attempts} failed:\", e)\n",
    "                    time.sleep(delay)\n",
    "            raise RuntimeError(f\"Function {func.__name__} failed after {max_attempts} attempts\")\n",
    "        return wrapper\n",
    "    return decorator"
   ]
  },
  {
   "cell_type": "code",
   "execution_count": 81,
   "metadata": {},
   "outputs": [],
   "source": [
    "extensions = ('.pdf', '.odt', '.xls', '.csv', '.ods', '.xlsx', '.doc', '.zip', '.docx', '.sxc')"
   ]
  },
  {
   "cell_type": "markdown",
   "metadata": {},
   "source": [
    "# Driver manager"
   ]
  },
  {
   "cell_type": "code",
   "execution_count": 82,
   "metadata": {},
   "outputs": [],
   "source": [
    "class WebDriverManager:\n",
    "    def __init__(self):\n",
    "        self.driver = None\n",
    "\n",
    "    def start_driver(self, url):\n",
    "        if not self.driver or (self.is_driver_open() == False):\n",
    "            opts = Options()\n",
    "            # start driver\n",
    "            s = Service(r\".\\chromedriver.exe\")\n",
    "            prefs = {\"download.default_directory\": f'{download_path}',\n",
    "                    \"directory_upgrade\": True,\n",
    "                    \"profile.default_content_settings.popups\": 0}\n",
    "            opts.add_experimental_option(\"prefs\", prefs)\n",
    "            self.driver = Chrome(service=s, options=opts)\n",
    "\n",
    "            # opts = Options()\n",
    "            # service = Service()\n",
    "\n",
    "            # prefs = {\"download.default_directory\": f'{download_path}',\n",
    "            #         \"directory_upgrade\": True,\n",
    "            #         \"profile.default_content_settings.popups\": 0,\n",
    "            #         \"plugins.always_open_pdf_externally\": True  # It will not show PDF directly in chrome\n",
    "            #         }\n",
    "\n",
    "            # opts.add_experimental_option('prefs', prefs)\n",
    "            # opts.add_argument('--no-sandbox')\n",
    "            # opts.add_argument('--headless')\n",
    "            # opts.add_argument('--disable-gpu')\n",
    "            # opts.add_argument('--disable-dev-shm-usage')\n",
    "\n",
    "            # self.driver = Chrome(service=service,\n",
    "            #                 options=opts)\n",
    "\n",
    "            self.driver.get(url)\n",
    "            self.check_cookies()\n",
    "            time.sleep(10) # Waiting for main page to load\n",
    "        return self.driver  # Return the driver instance\n",
    "        \n",
    "    def check_cookies(self):\n",
    "        try: \n",
    "            time.sleep(2)\n",
    "            cookie_button = self.driver.find_element(By.CLASS_NAME, \"agree-button.eu-cookie-compliance-secondary-button\")\n",
    "\n",
    "            cookie_button.click()\n",
    "        except NoSuchElementException:\n",
    "            pass\n",
    "\n",
    "    def is_driver_open(self):\n",
    "        if self.driver:\n",
    "            try:\n",
    "                # Access a property or method of the driver\n",
    "                self.driver.current_url\n",
    "                return True\n",
    "            except NoSuchWindowException:\n",
    "                return False\n",
    "            except Exception as e:\n",
    "                logging.info(f'Driver seems to be closed: {e}')\n",
    "                return False\n",
    "        return False\n",
    "    \n",
    "    def get_driver(self, link):\n",
    "        if not self.is_driver_open():\n",
    "            logging.warning(f'Driver is not responding, reopening')\n",
    "            self.driver = self.start_driver(link)\n",
    "        else: \n",
    "            logging.info('Driver is running, getting items from current section page')\n",
    "            self.driver.get(link)\n",
    "            self.check_cookies()\n",
    "\n",
    "        return self.driver\n",
    "\n",
    "    def close_driver(self):\n",
    "        if self.driver:\n",
    "            self.driver.quit()\n",
    "            self.driver = None"
   ]
  },
  {
   "cell_type": "markdown",
   "metadata": {},
   "source": [
    "Initialize webdriver, and clicking on cookies button"
   ]
  },
  {
   "cell_type": "code",
   "execution_count": 83,
   "metadata": {},
   "outputs": [
    {
     "name": "stderr",
     "output_type": "stream",
     "text": [
      "WARNING:root:Driver is not responding, reopening\n"
     ]
    }
   ],
   "source": [
    "driver_manager = WebDriverManager()\n",
    "driver = driver_manager.get_driver(link=url_comune)"
   ]
  },
  {
   "cell_type": "code",
   "execution_count": 84,
   "metadata": {},
   "outputs": [],
   "source": [
    "def get_sections_and_subsections():\n",
    "    sections = {}\n",
    "\n",
    "    try:\n",
    "        driver.get(url_comune)\n",
    "        # Click on expand sections button\n",
    "        expand_button = driver.find_element(By.ID, 'menu-lista-button')\n",
    "        expand_button.click()\n",
    "\n",
    "        body_e = driver.find_element(By.CLASS_NAME, 'nav.navbar-nav.list-group')\n",
    "        li_elements = body_e.find_elements(By.TAG_NAME, 'li')\n",
    "\n",
    "        s_names = [li_e.text for li_e in li_elements]\n",
    "        link_sections = [li_e.find_element(By.TAG_NAME, 'a').get_attribute('href') for li_e in li_elements]\n",
    "\n",
    "        for s, s_link in zip(s_names, link_sections):\n",
    "            try:\n",
    "                # print(f'SECTION: {s}')\n",
    "                driver.get(s_link)\n",
    "                time.sleep(1)\n",
    "\n",
    "                body_e = driver.find_element(By.CLASS_NAME, 'field-items')\n",
    "                a_elements = body_e.find_elements(By.TAG_NAME, 'a')\n",
    "\n",
    "                if a_elements:\n",
    "                    subsections = {}\n",
    "                    for a_e in a_elements:\n",
    "                        ss_name = a_e.text.strip()\n",
    "                        # print(f'\\tSUBSECTION: {ss_name}')\n",
    "                        ss_link = a_e.get_attribute('href')\n",
    "\n",
    "                        subsections[ss_name] = ss_link\n",
    "\n",
    "                    sections[s] = {'href': s_link, **subsections}\n",
    "                else:\n",
    "                    sections[s] = {'href': s_link}\n",
    "            except NoSuchElementException:\n",
    "                pass\n",
    "            except Exception as e:\n",
    "                logging.warning(f'Could not get subsections for {s}: {e}')\n",
    "                pass\n",
    "\n",
    "    except Exception as e:\n",
    "        logging.warning(f'Could not get sections')\n",
    "\n",
    "    return sections"
   ]
  },
  {
   "cell_type": "code",
   "execution_count": 85,
   "metadata": {},
   "outputs": [],
   "source": [
    "# sections = get_sections_and_subsections()"
   ]
  },
  {
   "cell_type": "code",
   "execution_count": 86,
   "metadata": {},
   "outputs": [],
   "source": [
    "# sections"
   ]
  },
  {
   "cell_type": "markdown",
   "metadata": {},
   "source": [
    "# Scrapping a given subsection"
   ]
  },
  {
   "cell_type": "code",
   "execution_count": 87,
   "metadata": {},
   "outputs": [],
   "source": [
    "def rename_file(file_name:str, link_ogg: str)->str:\n",
    "    # Generate a unique identifier for the file\n",
    "    id = hashlib.sha256(link_ogg.encode()).hexdigest()[:8]\n",
    "\n",
    "    return f'{id}_{file_name}'"
   ]
  },
  {
   "cell_type": "code",
   "execution_count": 88,
   "metadata": {},
   "outputs": [],
   "source": [
    "def download_file(file_name:str, link_file:str)->Path:\n",
    "    # Download the file\n",
    "    response = requests.get(link_file)\n",
    "\n",
    "    # Construct the full path of the file\n",
    "    file_path = Path(download_path, file_name)\n",
    "\n",
    "    # Save the file\n",
    "    with open(file_path, 'wb') as f:\n",
    "        f.write(response.content)\n",
    "\n",
    "    print(file_name)\n",
    "    \n",
    "    return file_path"
   ]
  },
  {
   "cell_type": "code",
   "execution_count": 89,
   "metadata": {},
   "outputs": [],
   "source": [
    "def download_accordion():\n",
    "    # Expanding attachment menu\n",
    "    menu_e = driver.find_element(By.ID, 'ui-accordion-1-header-0').find_element(By.TAG_NAME, 'a')\n",
    "    driver.execute_script(\"arguments[0].click();\", menu_e)\n",
    "\n",
    "    allegati_e = driver.find_element(By.CLASS_NAME, 'group-documenti.field-group-html-element.documenti')\n",
    "    file_elements = allegati_e.find_elements(By.CLASS_NAME, 'file')\n",
    "\n",
    "    logging.info(f'Found {len(file_elements)} files to download')\n",
    "    for f_e in file_elements:\n",
    "        a_e = f_e.find_element(By.TAG_NAME, 'a')\n",
    "        link_file = a_e.get_attribute('href')\n",
    "        if link_file.endswith(extensions):\n",
    "            try:\n",
    "                # Get the last part of the resulting path\n",
    "                link_parts = link_file.split('/')\n",
    "                file_name = rename_file(file_name=link_parts[-1],\n",
    "                                        link_ogg=link_file)\n",
    "                \n",
    "                download_file(file_name=file_name,\n",
    "                            link_file=link_file)\n",
    "            except Exception as e:\n",
    "                logging.warning(f'Could not download file {link_file}: {e}')\n",
    "        else:\n",
    "            pass"
   ]
  },
  {
   "cell_type": "code",
   "execution_count": 90,
   "metadata": {},
   "outputs": [],
   "source": [
    "def download_required_fields():\n",
    "    # body_e = driver.find_element(By.CLASS_NAME, 'required-fields.group-documenti.field-group-html-element.documenti')\n",
    "    file_elements = driver.find_elements(By.CLASS_NAME, 'file')\n",
    "\n",
    "    logging.info(f'Found {len(file_elements)} files to download')\n",
    "    for f_e in file_elements:\n",
    "        a_e = f_e.find_element(By.TAG_NAME, 'a')\n",
    "        link_file = a_e.get_attribute('href')\n",
    "        if link_file.endswith(extensions):\n",
    "            try:\n",
    "                # Get the last part of the resulting path\n",
    "                link_parts = link_file.split('/')\n",
    "                file_name = rename_file(file_name=link_parts[-1],\n",
    "                                        link_ogg=link_file)\n",
    "                \n",
    "                download_file(file_name=file_name, link_file=link_file)\n",
    "            except Exception as e:\n",
    "                logging.warning(f'Could not download file {link_file}: {e}')\n",
    "        else:\n",
    "            pass\n"
   ]
  },
  {
   "cell_type": "code",
   "execution_count": 91,
   "metadata": {},
   "outputs": [],
   "source": [
    "# def download_label_hidden():\n",
    "#     body_e = driver.find_element(By.CLASS_NAME, 'field.field-name-body.field-type-text-with-summary.field-label-hidden')\n",
    "#     file_elements = body_e.find_elements(By.TAG_NAME, 'li')\n",
    "\n",
    "#     for f_e in file_elements:\n",
    "#         a_e = f_e.find_element(By.TAG_NAME, 'a')\n",
    "#         link_file = a_e.get_attribute('href')\n",
    "#         try:\n",
    "#             # Get the last part of the resulting path\n",
    "#             link_parts = link_file.split('/')\n",
    "#             file_name = rename_file(file_name=link_parts[-1],\n",
    "#                                     link_ogg=link_file)\n",
    "            \n",
    "#             if 'schede' not in link_file:\n",
    "#                 download_file(file_name=file_name, link_file=link_file)\n",
    "#             else: \n",
    "#                 download_accordion()\n",
    "#         except Exception as e:\n",
    "#             print(e)        "
   ]
  },
  {
   "cell_type": "code",
   "execution_count": 92,
   "metadata": {},
   "outputs": [],
   "source": [
    "# def download_files_from_microsection(link_microsection: str)-> None:\n",
    "#     driver.get(link_microsection)\n",
    "\n",
    "#     try:\n",
    "#         download_accordion()\n",
    "#     except:\n",
    "#         logging.info(f'Could not download files from accordion')\n",
    "#     try: \n",
    "#         download_label_hidden()\n",
    "#     except:\n",
    "#         logging.info(f'Could not find files by label hidden')\n",
    "#     try: \n",
    "#         download_required_fields()\n",
    "#     except:\n",
    "#         logging.info(f'Could not find files by required fields')"
   ]
  },
  {
   "cell_type": "code",
   "execution_count": 93,
   "metadata": {},
   "outputs": [],
   "source": [
    "def get_microsections_field_items(link_ss):\n",
    "    subsections = {}\n",
    "    try:\n",
    "        driver.get(link_ss)\n",
    "        body_e = driver.find_element(By.CLASS_NAME, 'field-items')\n",
    "        a_elements = body_e.find_elements(By.TAG_NAME, 'a')\n",
    "\n",
    "        for a_e in a_elements:\n",
    "            ms_link = a_e.get_attribute('href')\n",
    "\n",
    "            subsections[ms_link] = {'href': ms_link}\n",
    "    except:\n",
    "        pass\n",
    "\n",
    "    return subsections"
   ]
  },
  {
   "cell_type": "code",
   "execution_count": 94,
   "metadata": {},
   "outputs": [
    {
     "data": {
      "text/plain": [
       "{}"
      ]
     },
     "execution_count": 94,
     "metadata": {},
     "output_type": "execute_result"
    }
   ],
   "source": [
    "get_microsections_field_items('https://www.comune.arezzo.it/area-tematica/polizia-locale-sicurezza')"
   ]
  },
  {
   "cell_type": "code",
   "execution_count": 95,
   "metadata": {},
   "outputs": [],
   "source": [
    "def get_microsections_bandi(link_ss: str):\n",
    "    try: \n",
    "        driver.get(link_ss)\n",
    "        driver.find_element(By.CLASS_NAME, \"view-content\")\n",
    "    except NoSuchElementException:\n",
    "        return {}\n",
    "    \n",
    "    page_number = 0\n",
    "    subsections = {}\n",
    "    previous_links = set()\n",
    "    \n",
    "    while True:\n",
    "        driver.get(f'{link_ss}?page={page_number}')\n",
    "    \n",
    "        try: \n",
    "            body_e = driver.find_element(By.CLASS_NAME, \"view-content\")\n",
    "        except NoSuchElementException:\n",
    "            return subsections\n",
    "        \n",
    "        content_e = body_e.find_elements(By.CLASS_NAME, 'views-field.views-field-title')\n",
    "\n",
    "        if content_e:\n",
    "            current_links = set()\n",
    "            for c_e in content_e:\n",
    "                a_e = c_e.find_element(By.TAG_NAME, 'a')\n",
    "                ms_link = a_e.get_attribute('href')\n",
    "                \n",
    "                current_links.add(ms_link)\n",
    "                subsections[ms_link] = {'href': ms_link}\n",
    "            \n",
    "            # Check if current page links are the same as previous page links\n",
    "            if current_links == previous_links:\n",
    "                break\n",
    "            previous_links = current_links\n",
    "        else:\n",
    "            return subsections\n",
    "        \n",
    "        page_number += 1\n",
    "    \n",
    "    return subsections\n"
   ]
  },
  {
   "cell_type": "code",
   "execution_count": 96,
   "metadata": {},
   "outputs": [
    {
     "data": {
      "text/plain": [
       "{}"
      ]
     },
     "execution_count": 96,
     "metadata": {},
     "output_type": "execute_result"
    }
   ],
   "source": [
    "get_microsections_bandi('https://www.comune.arezzo.it/certificazioni-anagrafiche')"
   ]
  },
  {
   "cell_type": "code",
   "execution_count": 97,
   "metadata": {},
   "outputs": [],
   "source": [
    "def get_microsections_cards(link_ss: str):\n",
    "    try: \n",
    "        driver.get(link_ss)\n",
    "        driver.find_element(By.ID, \"views-bootstrap-grid-1\")\n",
    "    except NoSuchElementException:\n",
    "        return {}\n",
    "    \n",
    "    page_number = 0\n",
    "    subsections = {}\n",
    "    previous_links = set()\n",
    "    \n",
    "    while True:\n",
    "        driver.get(f'{link_ss}?page={page_number}')\n",
    "        print(f'{link_ss}?page={page_number}')\n",
    "    \n",
    "        try:\n",
    "            body_e = driver.find_element(By.ID, \"views-bootstrap-grid-1\")\n",
    "        except NoSuchElementException:\n",
    "            return subsections\n",
    "        \n",
    "        cards_e = body_e.find_elements(By.CLASS_NAME, 'views-field.views-field-title')\n",
    "\n",
    "        if cards_e:\n",
    "            for c_e in cards_e:\n",
    "                current_links = set()\n",
    "                a_e = c_e.find_element(By.TAG_NAME, 'a')\n",
    "                ms_link = a_e.get_attribute('href')\n",
    "\n",
    "                current_links.add(ms_link)\n",
    "                print(current_links)\n",
    "                subsections[ms_link] = {'href': ms_link}\n",
    "\n",
    "                # Check if current page links are the same as previous page links\n",
    "                if current_links == previous_links:\n",
    "                    break\n",
    "                previous_links = current_links\n",
    "        else:\n",
    "            return subsections\n",
    "        \n",
    "        page_number += 1"
   ]
  },
  {
   "cell_type": "code",
   "execution_count": 98,
   "metadata": {},
   "outputs": [
    {
     "name": "stdout",
     "output_type": "stream",
     "text": [
      "https://www.comune.arezzo.it/certificazioni-anagrafiche?page=0\n"
     ]
    },
    {
     "data": {
      "text/plain": [
       "{}"
      ]
     },
     "execution_count": 98,
     "metadata": {},
     "output_type": "execute_result"
    }
   ],
   "source": [
    "get_microsections_cards('https://www.comune.arezzo.it/certificazioni-anagrafiche')"
   ]
  },
  {
   "cell_type": "code",
   "execution_count": 99,
   "metadata": {},
   "outputs": [],
   "source": [
    "def get_all_types_microsections(link_ss):\n",
    "    driver.get(link_ss)\n",
    "    # sections = {}\n",
    "\n",
    "    sections = get_microsections_field_items(link_ss)\n",
    "    if not sections:\n",
    "        sections = get_microsections_cards(link_ss)\n",
    "        if not sections:\n",
    "            sections = get_microsections_bandi(link_ss)\n",
    "\n",
    "    return sections"
   ]
  },
  {
   "cell_type": "code",
   "execution_count": 106,
   "metadata": {},
   "outputs": [],
   "source": [
    "links_visited = ['https://www.comune.arezzo.it']\n",
    "def get_recursive_microsections(link, depth=0, max_depth=10):\n",
    "    if depth > max_depth:\n",
    "        return\n",
    "\n",
    "    microsections = get_all_types_microsections(link)\n",
    "    print(microsections)\n",
    "    if microsections:\n",
    "        for values in microsections.values():\n",
    "            link = values['href']\n",
    "            if link and ('https://www.comune.arezzo.it' in link) and (link not in links_visited):\n",
    "                if link.endswith(extensions):\n",
    "                    # Get the last part of the resulting path\n",
    "                    link_parts = link.split('/')\n",
    "                    file_name = rename_file(file_name=link_parts[-1],\n",
    "                                            link_ogg=link)\n",
    "                    download_file(file_name=file_name,\n",
    "                                  link_file=link)\n",
    "                    \n",
    "                    links_visited.append(link)\n",
    "                else: \n",
    "                    print(link)\n",
    "                    try:\n",
    "                        download_accordion()\n",
    "                    except:\n",
    "                        pass\n",
    "                    try:\n",
    "                        download_required_fields()\n",
    "                    except:\n",
    "                        pass\n",
    "\n",
    "                    links_visited.append(link)\n",
    "                    get_recursive_microsections(link, depth + 1, max_depth)\n",
    "            else: \n",
    "                pass"
   ]
  },
  {
   "cell_type": "code",
   "execution_count": 109,
   "metadata": {},
   "outputs": [
    {
     "name": "stderr",
     "output_type": "stream",
     "text": [
      "INFO:root:Found 0 files to download\n"
     ]
    },
    {
     "name": "stdout",
     "output_type": "stream",
     "text": [
      "{'https://www.comune.arezzo.it/raccolta-comunale-delle-informative-gdpr': {'href': 'https://www.comune.arezzo.it/raccolta-comunale-delle-informative-gdpr'}, 'https://www.comune.arezzo.it/controllo-successivo-regolarita-amministrativa': {'href': 'https://www.comune.arezzo.it/controllo-successivo-regolarita-amministrativa'}, 'https://www.comune.arezzo.it/piani-razionalizzazione': {'href': 'https://www.comune.arezzo.it/piani-razionalizzazione'}, 'http://www3.comune.arezzo.it/il-comune/servizio-sociale-politiche-educative-formative-sport/processi-partecipativi': {'href': 'http://www3.comune.arezzo.it/il-comune/servizio-sociale-politiche-educative-formative-sport/processi-partecipativi'}, 'https://www.comune.arezzo.it/pubblicazione-bilanci-consuntivi-sagre-destinazioni-proventi': {'href': 'https://www.comune.arezzo.it/pubblicazione-bilanci-consuntivi-sagre-destinazioni-proventi'}}\n",
      "https://www.comune.arezzo.it/raccolta-comunale-delle-informative-gdpr\n"
     ]
    },
    {
     "name": "stderr",
     "output_type": "stream",
     "text": [
      "INFO:root:Found 0 files to download\n"
     ]
    },
    {
     "name": "stdout",
     "output_type": "stream",
     "text": [
      "{}\n",
      "https://www.comune.arezzo.it/controllo-successivo-regolarita-amministrativa\n",
      "{'https://www.comune.arezzo.it/sites/default/files/modello_relazione_annuale_2021_controlli_succ_18_gen_2022_prot.pdf': {'href': 'https://www.comune.arezzo.it/sites/default/files/modello_relazione_annuale_2021_controlli_succ_18_gen_2022_prot.pdf'}, 'https://www.comune.arezzo.it/sites/default/files/relazione_i_trimestre_2022_controlli_prot.pdf': {'href': 'https://www.comune.arezzo.it/sites/default/files/relazione_i_trimestre_2022_controlli_prot.pdf'}, 'https://www.comune.arezzo.it/sites/default/files/relazione_ii_trimestre_2022_controlli_prot.pdf': {'href': 'https://www.comune.arezzo.it/sites/default/files/relazione_ii_trimestre_2022_controlli_prot.pdf'}, 'https://www.comune.arezzo.it/sites/default/files/relazione_iii_trimestre_2022_controlli_prot.pdf': {'href': 'https://www.comune.arezzo.it/sites/default/files/relazione_iii_trimestre_2022_controlli_prot.pdf'}, 'https://www.comune.arezzo.it/sites/default/files/referto_finale_controlli_2022_organi_prot.pdf': {'href': 'https://www.comune.arezzo.it/sites/default/files/referto_finale_controlli_2022_organi_prot.pdf'}, 'https://www.comune.arezzo.it/sites/default/files/referto_controlli_i_trimestre_2023_prot.pdf': {'href': 'https://www.comune.arezzo.it/sites/default/files/referto_controlli_i_trimestre_2023_prot.pdf'}, 'https://www.comune.arezzo.it/sites/default/files/referto_controlli_ii_trimestre_2023.pdf': {'href': 'https://www.comune.arezzo.it/sites/default/files/referto_controlli_ii_trimestre_2023.pdf'}, 'https://www.comune.arezzo.it/sites/default/files/referto_controlli_iii_trimestre_2023_prot.pdf': {'href': 'https://www.comune.arezzo.it/sites/default/files/referto_controlli_iii_trimestre_2023_prot.pdf'}, 'https://www.comune.arezzo.it/sites/default/files/referto_finale_controlli_2023_prot.pdf': {'href': 'https://www.comune.arezzo.it/sites/default/files/referto_finale_controlli_2023_prot.pdf'}, 'https://www.comune.arezzo.it/sites/default/files/referto_i_trimestre_2024_prot.pdf': {'href': 'https://www.comune.arezzo.it/sites/default/files/referto_i_trimestre_2024_prot.pdf'}}\n",
      "0ca98fa8_modello_relazione_annuale_2021_controlli_succ_18_gen_2022_prot.pdf\n",
      "ba94ef7a_relazione_i_trimestre_2022_controlli_prot.pdf\n",
      "e61a6461_relazione_ii_trimestre_2022_controlli_prot.pdf\n",
      "f2247c63_relazione_iii_trimestre_2022_controlli_prot.pdf\n",
      "7128daf7_referto_finale_controlli_2022_organi_prot.pdf\n",
      "f52593f8_referto_controlli_i_trimestre_2023_prot.pdf\n",
      "2aaa699b_referto_controlli_ii_trimestre_2023.pdf\n",
      "359c1910_referto_controlli_iii_trimestre_2023_prot.pdf\n",
      "46105ada_referto_finale_controlli_2023_prot.pdf\n"
     ]
    },
    {
     "name": "stderr",
     "output_type": "stream",
     "text": [
      "INFO:root:Found 0 files to download\n"
     ]
    },
    {
     "name": "stdout",
     "output_type": "stream",
     "text": [
      "1c96e4f5_referto_i_trimestre_2024_prot.pdf\n",
      "https://www.comune.arezzo.it/piani-razionalizzazione\n"
     ]
    },
    {
     "name": "stderr",
     "output_type": "stream",
     "text": [
      "INFO:root:Found 0 files to download\n"
     ]
    },
    {
     "name": "stdout",
     "output_type": "stream",
     "text": [
      "{'https://www.comune.arezzo.it/piani-triennali-razionalizzazione-contenimento-delle-spese-funzionamento-delle-strutture-triennio': {'href': 'https://www.comune.arezzo.it/piani-triennali-razionalizzazione-contenimento-delle-spese-funzionamento-delle-strutture-triennio'}, 'https://www.comune.arezzo.it/piani-triennali-razionalizzazione-contenimento-delle-spese-funzionamento-delle-strutture-triennio-0': {'href': 'https://www.comune.arezzo.it/piani-triennali-razionalizzazione-contenimento-delle-spese-funzionamento-delle-strutture-triennio-0'}, 'https://www.comune.arezzo.it/piani-triennali-razionalizzazione-contenimento-delle-spese-funzionamento-delle-strutture-triennio-1': {'href': 'https://www.comune.arezzo.it/piani-triennali-razionalizzazione-contenimento-delle-spese-funzionamento-delle-strutture-triennio-1'}, 'https://www.comune.arezzo.it/piani-triennali-razionalizzazione-contenimento-delle-spese-funzionamento-delle-strutture-triennio-2': {'href': 'https://www.comune.arezzo.it/piani-triennali-razionalizzazione-contenimento-delle-spese-funzionamento-delle-strutture-triennio-2'}, 'https://www.comune.arezzo.it/piani-triennali-razionalizzazione-contenimento-delle-spese-funzionamento-delle-strutture-rendiconto': {'href': 'https://www.comune.arezzo.it/piani-triennali-razionalizzazione-contenimento-delle-spese-funzionamento-delle-strutture-rendiconto'}, 'https://www.comune.arezzo.it/piani-triennali-razionalizzazione-contenimento-delle-spese-funzionamento-delle-strutture-triennio-3': {'href': 'https://www.comune.arezzo.it/piani-triennali-razionalizzazione-contenimento-delle-spese-funzionamento-delle-strutture-triennio-3'}, 'https://www.comune.arezzo.it/piani-triennali-razionalizzazione-contenimento-delle-spese-funzionamento-delle-strutture-0': {'href': 'https://www.comune.arezzo.it/piani-triennali-razionalizzazione-contenimento-delle-spese-funzionamento-delle-strutture-0'}, 'https://www.comune.arezzo.it/piani-triennali-razionalizzazione-contenimento-delle-spese-funzionamento-delle-strutture-1': {'href': 'https://www.comune.arezzo.it/piani-triennali-razionalizzazione-contenimento-delle-spese-funzionamento-delle-strutture-1'}, 'https://www.comune.arezzo.it/piani-triennali-razionalizzazione-contenimento-delle-spese-funzionamento-delle-strutture-triennio-5': {'href': 'https://www.comune.arezzo.it/piani-triennali-razionalizzazione-contenimento-delle-spese-funzionamento-delle-strutture-triennio-5'}, 'https://www.comune.arezzo.it/piani-triennali-razionalizzazione-contenimento-delle-spese-funzionamento-delle-strutture-2': {'href': 'https://www.comune.arezzo.it/piani-triennali-razionalizzazione-contenimento-delle-spese-funzionamento-delle-strutture-2'}, 'https://www.comune.arezzo.it/piani-triennali-razionalizzazione-contenimento-delle-spese-funzionamento-delle-strutture-triennio-6': {'href': 'https://www.comune.arezzo.it/piani-triennali-razionalizzazione-contenimento-delle-spese-funzionamento-delle-strutture-triennio-6'}, 'https://www.comune.arezzo.it/piano-triennale-razionalizzazione-contenimento-delle-spese-funzionamento-delle-strutture-triennio': {'href': 'https://www.comune.arezzo.it/piano-triennale-razionalizzazione-contenimento-delle-spese-funzionamento-delle-strutture-triennio'}, 'https://www.comune.arezzo.it/piani-triennali-razionalizzazione-contenimento-delle-spese-funzionamento-delle-strutture-3': {'href': 'https://www.comune.arezzo.it/piani-triennali-razionalizzazione-contenimento-delle-spese-funzionamento-delle-strutture-3'}}\n",
      "https://www.comune.arezzo.it/piani-triennali-razionalizzazione-contenimento-delle-spese-funzionamento-delle-strutture-triennio\n"
     ]
    },
    {
     "name": "stderr",
     "output_type": "stream",
     "text": [
      "INFO:root:Found 0 files to download\n"
     ]
    },
    {
     "name": "stdout",
     "output_type": "stream",
     "text": [
      "{'http://servizionline.comune.arezzo.it/pubblinfor/delibere/immagini/GC_2012_211.PDF': {'href': 'http://servizionline.comune.arezzo.it/pubblinfor/delibere/immagini/GC_2012_211.PDF'}, 'http://servizionline.comune.arezzo.it/pubblinfor/delibere/vediAllegato.php?id=38610': {'href': 'http://servizionline.comune.arezzo.it/pubblinfor/delibere/vediAllegato.php?id=38610'}, 'http://servizionline.comune.arezzo.it/pubblinfor/delibere/vediAllegato.php?id=38611': {'href': 'http://servizionline.comune.arezzo.it/pubblinfor/delibere/vediAllegato.php?id=38611'}, 'http://servizionline.comune.arezzo.it/pubblinfor/delibere/vediAllegato.php?id=38612': {'href': 'http://servizionline.comune.arezzo.it/pubblinfor/delibere/vediAllegato.php?id=38612'}}\n",
      "https://www.comune.arezzo.it/piani-triennali-razionalizzazione-contenimento-delle-spese-funzionamento-delle-strutture-triennio-0\n"
     ]
    },
    {
     "name": "stderr",
     "output_type": "stream",
     "text": [
      "INFO:root:Found 0 files to download\n"
     ]
    },
    {
     "name": "stdout",
     "output_type": "stream",
     "text": [
      "{'http://servizionline.comune.arezzo.it/pubblinfor/delibere/immagini/GC_2013_270.PDF': {'href': 'http://servizionline.comune.arezzo.it/pubblinfor/delibere/immagini/GC_2013_270.PDF'}, 'http://servizionline.comune.arezzo.it/pubblinfor/delibere/vediAllegato.php?id=39518': {'href': 'http://servizionline.comune.arezzo.it/pubblinfor/delibere/vediAllegato.php?id=39518'}, 'http://servizionline.comune.arezzo.it/pubblinfor/delibere/vediAllegato.php?id=39519': {'href': 'http://servizionline.comune.arezzo.it/pubblinfor/delibere/vediAllegato.php?id=39519'}, 'http://servizionline.comune.arezzo.it/pubblinfor/delibere/vediAllegato.php?id=39520': {'href': 'http://servizionline.comune.arezzo.it/pubblinfor/delibere/vediAllegato.php?id=39520'}}\n",
      "https://www.comune.arezzo.it/piani-triennali-razionalizzazione-contenimento-delle-spese-funzionamento-delle-strutture-triennio-1\n"
     ]
    },
    {
     "name": "stderr",
     "output_type": "stream",
     "text": [
      "INFO:root:Found 0 files to download\n"
     ]
    },
    {
     "name": "stdout",
     "output_type": "stream",
     "text": [
      "{'http://servizionline.comune.arezzo.it/jattipubblicazioni/AttiPubblicazioni?servizio=Allegato&idDocumentale=123648': {'href': 'http://servizionline.comune.arezzo.it/jattipubblicazioni/AttiPubblicazioni?servizio=Allegato&idDocumentale=123648'}, 'http://servizionline.comune.arezzo.it/jattipubblicazioni/AttiPubblicazioni?servizio=Allegato&idDocumentale=120799': {'href': 'http://servizionline.comune.arezzo.it/jattipubblicazioni/AttiPubblicazioni?servizio=Allegato&idDocumentale=120799'}, 'http://servizionline.comune.arezzo.it/jattipubblicazioni/AttiPubblicazioni?servizio=Allegato&idDocumentale=120800': {'href': 'http://servizionline.comune.arezzo.it/jattipubblicazioni/AttiPubblicazioni?servizio=Allegato&idDocumentale=120800'}, 'http://servizionline.comune.arezzo.it/jattipubblicazioni/AttiPubblicazioni?servizio=Allegato&idDocumentale=120801': {'href': 'http://servizionline.comune.arezzo.it/jattipubblicazioni/AttiPubblicazioni?servizio=Allegato&idDocumentale=120801'}, 'http://servizionline.comune.arezzo.it/jattipubblicazioni/AttiPubblicazioni?servizio=Allegato&idDocumentale=120802': {'href': 'http://servizionline.comune.arezzo.it/jattipubblicazioni/AttiPubblicazioni?servizio=Allegato&idDocumentale=120802'}}\n",
      "https://www.comune.arezzo.it/piani-triennali-razionalizzazione-contenimento-delle-spese-funzionamento-delle-strutture-triennio-2\n"
     ]
    },
    {
     "name": "stderr",
     "output_type": "stream",
     "text": [
      "INFO:root:Found 0 files to download\n"
     ]
    },
    {
     "name": "stdout",
     "output_type": "stream",
     "text": [
      "{'http://servizionline.comune.arezzo.it/jattipubblicazioni/AttiPubblicazioni?servizio=Allegato&idDocumentale=148836': {'href': 'http://servizionline.comune.arezzo.it/jattipubblicazioni/AttiPubblicazioni?servizio=Allegato&idDocumentale=148836'}, 'http://servizionline.comune.arezzo.it/jattipubblicazioni/AttiPubblicazioni?servizio=Allegato&idDocumentale=147949': {'href': 'http://servizionline.comune.arezzo.it/jattipubblicazioni/AttiPubblicazioni?servizio=Allegato&idDocumentale=147949'}, 'http://servizionline.comune.arezzo.it/jattipubblicazioni/AttiPubblicazioni?servizio=Allegato&idDocumentale=147950': {'href': 'http://servizionline.comune.arezzo.it/jattipubblicazioni/AttiPubblicazioni?servizio=Allegato&idDocumentale=147950'}, 'http://servizionline.comune.arezzo.it/jattipubblicazioni/AttiPubblicazioni?servizio=Allegato&idDocumentale=147951': {'href': 'http://servizionline.comune.arezzo.it/jattipubblicazioni/AttiPubblicazioni?servizio=Allegato&idDocumentale=147951'}, 'http://servizionline.comune.arezzo.it/jattipubblicazioni/AttiPubblicazioni?servizio=Allegato&idDocumentale=147952': {'href': 'http://servizionline.comune.arezzo.it/jattipubblicazioni/AttiPubblicazioni?servizio=Allegato&idDocumentale=147952'}}\n",
      "https://www.comune.arezzo.it/piani-triennali-razionalizzazione-contenimento-delle-spese-funzionamento-delle-strutture-rendiconto\n"
     ]
    },
    {
     "name": "stderr",
     "output_type": "stream",
     "text": [
      "INFO:root:Found 0 files to download\n"
     ]
    },
    {
     "name": "stdout",
     "output_type": "stream",
     "text": [
      "{'http://servizionline.comune.arezzo.it/jattipubblicazioni/AttiPubblicazioni?servizio=Allegato&idDocumentale=150470': {'href': 'http://servizionline.comune.arezzo.it/jattipubblicazioni/AttiPubblicazioni?servizio=Allegato&idDocumentale=150470'}, 'http://servizionline.comune.arezzo.it/jattipubblicazioni/AttiPubblicazioni?servizio=Allegato&idDocumentale=149828': {'href': 'http://servizionline.comune.arezzo.it/jattipubblicazioni/AttiPubblicazioni?servizio=Allegato&idDocumentale=149828'}, 'http://servizionline.comune.arezzo.it/jattipubblicazioni/AttiPubblicazioni?servizio=Allegato&idDocumentale=149824': {'href': 'http://servizionline.comune.arezzo.it/jattipubblicazioni/AttiPubblicazioni?servizio=Allegato&idDocumentale=149824'}, 'http://servizionline.comune.arezzo.it/jattipubblicazioni/AttiPubblicazioni?servizio=Allegato&idDocumentale=149825': {'href': 'http://servizionline.comune.arezzo.it/jattipubblicazioni/AttiPubblicazioni?servizio=Allegato&idDocumentale=149825'}, 'http://servizionline.comune.arezzo.it/jattipubblicazioni/AttiPubblicazioni?servizio=Allegato&idDocumentale=149826': {'href': 'http://servizionline.comune.arezzo.it/jattipubblicazioni/AttiPubblicazioni?servizio=Allegato&idDocumentale=149826'}}\n",
      "https://www.comune.arezzo.it/piani-triennali-razionalizzazione-contenimento-delle-spese-funzionamento-delle-strutture-triennio-3\n"
     ]
    },
    {
     "name": "stderr",
     "output_type": "stream",
     "text": [
      "INFO:root:Found 0 files to download\n"
     ]
    },
    {
     "name": "stdout",
     "output_type": "stream",
     "text": [
      "{'https://www.comune.arezzo.it/delibera-gc-n-232-del-03052016': {'href': 'https://www.comune.arezzo.it/delibera-gc-n-232-del-03052016'}, 'http://www.comune.arezzo.it/sites/default/files/allegato_a_0.pdf': {'href': 'http://www.comune.arezzo.it/sites/default/files/allegato_a_0.pdf'}, 'http://www.comune.arezzo.it/sites/default/files/allegato_b_0.pdf': {'href': 'http://www.comune.arezzo.it/sites/default/files/allegato_b_0.pdf'}, 'http://www.comune.arezzo.it/sites/default/files/allegato_c_0.pdf': {'href': 'http://www.comune.arezzo.it/sites/default/files/allegato_c_0.pdf'}, 'http://www.comune.arezzo.it/sites/default/files/allegato_d.pdf': {'href': 'http://www.comune.arezzo.it/sites/default/files/allegato_d.pdf'}}\n",
      "https://www.comune.arezzo.it/delibera-gc-n-232-del-03052016\n",
      "{'https://www.comune.arezzo.it/sites/default/files/gc_2016_232.odt': {'href': 'https://www.comune.arezzo.it/sites/default/files/gc_2016_232.odt'}}\n"
     ]
    },
    {
     "name": "stderr",
     "output_type": "stream",
     "text": [
      "INFO:root:Found 1 files to download\n"
     ]
    },
    {
     "name": "stdout",
     "output_type": "stream",
     "text": [
      "2bde9f03_gc_2016_232.odt\n",
      "https://www.comune.arezzo.it/piani-triennali-razionalizzazione-contenimento-delle-spese-funzionamento-delle-strutture-0\n"
     ]
    },
    {
     "name": "stderr",
     "output_type": "stream",
     "text": [
      "INFO:root:Found 1 files to download\n"
     ]
    },
    {
     "name": "stdout",
     "output_type": "stream",
     "text": [
      "2bde9f03_gc_2016_232.odt\n",
      "2bde9f03_gc_2016_232.odt\n"
     ]
    },
    {
     "name": "stderr",
     "output_type": "stream",
     "text": [
      "INFO:root:Found 0 files to download\n"
     ]
    },
    {
     "name": "stdout",
     "output_type": "stream",
     "text": [
      "{'http://www.comune.arezzo.it/sites/default/files/gc_2016_249.pdf': {'href': 'http://www.comune.arezzo.it/sites/default/files/gc_2016_249.pdf'}, 'http://www.comune.arezzo.it/sites/default/files/allegato_a_1.pdf': {'href': 'http://www.comune.arezzo.it/sites/default/files/allegato_a_1.pdf'}, 'http://www.comune.arezzo.it/sites/default/files/allegato_b_1.pdf': {'href': 'http://www.comune.arezzo.it/sites/default/files/allegato_b_1.pdf'}, 'http://www.comune.arezzo.it/sites/default/files/allegato_c_1.pdf': {'href': 'http://www.comune.arezzo.it/sites/default/files/allegato_c_1.pdf'}, 'http://www.comune.arezzo.it/sites/default/files/allegato_d_1.pdf': {'href': 'http://www.comune.arezzo.it/sites/default/files/allegato_d_1.pdf'}}\n",
      "https://www.comune.arezzo.it/piani-triennali-razionalizzazione-contenimento-delle-spese-funzionamento-delle-strutture-1\n"
     ]
    },
    {
     "name": "stderr",
     "output_type": "stream",
     "text": [
      "INFO:root:Found 0 files to download\n"
     ]
    },
    {
     "name": "stdout",
     "output_type": "stream",
     "text": [
      "{'https://www.comune.arezzo.it/delibera-gc-n-147-del-04042017': {'href': 'https://www.comune.arezzo.it/delibera-gc-n-147-del-04042017'}, 'http://www.comune.arezzo.it/sites/default/files/allegato_a_2.pdf': {'href': 'http://www.comune.arezzo.it/sites/default/files/allegato_a_2.pdf'}, 'http://www.comune.arezzo.it/sites/default/files/allegato_b_2.pdf': {'href': 'http://www.comune.arezzo.it/sites/default/files/allegato_b_2.pdf'}, 'http://www.comune.arezzo.it/sites/default/files/allegato_c_2.pdf': {'href': 'http://www.comune.arezzo.it/sites/default/files/allegato_c_2.pdf'}, 'http://www.comune.arezzo.it/sites/default/files/allegato_d_2.pdf': {'href': 'http://www.comune.arezzo.it/sites/default/files/allegato_d_2.pdf'}}\n",
      "https://www.comune.arezzo.it/delibera-gc-n-147-del-04042017\n",
      "{'https://www.comune.arezzo.it/sites/default/files/gc_2017_147.odt': {'href': 'https://www.comune.arezzo.it/sites/default/files/gc_2017_147.odt'}}\n"
     ]
    },
    {
     "name": "stderr",
     "output_type": "stream",
     "text": [
      "INFO:root:Found 1 files to download\n"
     ]
    },
    {
     "name": "stdout",
     "output_type": "stream",
     "text": [
      "9031db99_gc_2017_147.odt\n",
      "https://www.comune.arezzo.it/piani-triennali-razionalizzazione-contenimento-delle-spese-funzionamento-delle-strutture-triennio-5\n"
     ]
    },
    {
     "name": "stderr",
     "output_type": "stream",
     "text": [
      "INFO:root:Found 1 files to download\n"
     ]
    },
    {
     "name": "stdout",
     "output_type": "stream",
     "text": [
      "9031db99_gc_2017_147.odt\n",
      "9031db99_gc_2017_147.odt\n"
     ]
    },
    {
     "name": "stderr",
     "output_type": "stream",
     "text": [
      "INFO:root:Found 0 files to download\n"
     ]
    },
    {
     "name": "stdout",
     "output_type": "stream",
     "text": [
      "{'https://www.comune.arezzo.it/delibera-gc-n-157-del-11042017': {'href': 'https://www.comune.arezzo.it/delibera-gc-n-157-del-11042017'}, 'http://www.comune.arezzo.it/sites/default/files/allegato_a_3.pdf': {'href': 'http://www.comune.arezzo.it/sites/default/files/allegato_a_3.pdf'}, 'http://www.comune.arezzo.it/sites/default/files/allegato_b_3.pdf': {'href': 'http://www.comune.arezzo.it/sites/default/files/allegato_b_3.pdf'}, 'http://www.comune.arezzo.it/sites/default/files/allegato_c_3.pdf': {'href': 'http://www.comune.arezzo.it/sites/default/files/allegato_c_3.pdf'}, 'http://www.comune.arezzo.it/sites/default/files/allegato_d_3.pdf': {'href': 'http://www.comune.arezzo.it/sites/default/files/allegato_d_3.pdf'}}\n",
      "https://www.comune.arezzo.it/delibera-gc-n-157-del-11042017\n",
      "{'https://www.comune.arezzo.it/sites/default/files/gc_2017_157.odt': {'href': 'https://www.comune.arezzo.it/sites/default/files/gc_2017_157.odt'}}\n"
     ]
    },
    {
     "name": "stderr",
     "output_type": "stream",
     "text": [
      "INFO:root:Found 1 files to download\n"
     ]
    },
    {
     "name": "stdout",
     "output_type": "stream",
     "text": [
      "054c7870_gc_2017_157.odt\n",
      "https://www.comune.arezzo.it/piani-triennali-razionalizzazione-contenimento-delle-spese-funzionamento-delle-strutture-2\n"
     ]
    },
    {
     "name": "stderr",
     "output_type": "stream",
     "text": [
      "INFO:root:Found 1 files to download\n"
     ]
    },
    {
     "name": "stdout",
     "output_type": "stream",
     "text": [
      "054c7870_gc_2017_157.odt\n",
      "054c7870_gc_2017_157.odt\n"
     ]
    },
    {
     "name": "stderr",
     "output_type": "stream",
     "text": [
      "INFO:root:Found 0 files to download\n"
     ]
    },
    {
     "name": "stdout",
     "output_type": "stream",
     "text": [
      "{'https://www.comune.arezzo.it/delibera-gc-n-86-del-27022018': {'href': 'https://www.comune.arezzo.it/delibera-gc-n-86-del-27022018'}, 'http://www.comune.arezzo.it/sites/default/files/allegato_a_1_0.pdf': {'href': 'http://www.comune.arezzo.it/sites/default/files/allegato_a_1_0.pdf'}, 'http://www.comune.arezzo.it/sites/default/files/allegato_b_1_0.pdf': {'href': 'http://www.comune.arezzo.it/sites/default/files/allegato_b_1_0.pdf'}, 'http://www.comune.arezzo.it/sites/default/files/allegato_c_1_0.pdf': {'href': 'http://www.comune.arezzo.it/sites/default/files/allegato_c_1_0.pdf'}, 'http://www.comune.arezzo.it/sites/default/files/allegato_d_0.pdf': {'href': 'http://www.comune.arezzo.it/sites/default/files/allegato_d_0.pdf'}}\n",
      "https://www.comune.arezzo.it/delibera-gc-n-86-del-27022018\n",
      "{'https://www.comune.arezzo.it/sites/default/files/gc_2018_86.odt': {'href': 'https://www.comune.arezzo.it/sites/default/files/gc_2018_86.odt'}}\n"
     ]
    },
    {
     "name": "stderr",
     "output_type": "stream",
     "text": [
      "INFO:root:Found 1 files to download\n"
     ]
    },
    {
     "name": "stdout",
     "output_type": "stream",
     "text": [
      "6074b5e0_gc_2018_86.odt\n",
      "https://www.comune.arezzo.it/piani-triennali-razionalizzazione-contenimento-delle-spese-funzionamento-delle-strutture-triennio-6\n"
     ]
    },
    {
     "name": "stderr",
     "output_type": "stream",
     "text": [
      "INFO:root:Found 1 files to download\n"
     ]
    },
    {
     "name": "stdout",
     "output_type": "stream",
     "text": [
      "6074b5e0_gc_2018_86.odt\n",
      "6074b5e0_gc_2018_86.odt\n"
     ]
    },
    {
     "name": "stderr",
     "output_type": "stream",
     "text": [
      "INFO:root:Found 0 files to download\n"
     ]
    },
    {
     "name": "stdout",
     "output_type": "stream",
     "text": [
      "{'https://www.comune.arezzo.it/delibera-gc-n-87-del-27022018': {'href': 'https://www.comune.arezzo.it/delibera-gc-n-87-del-27022018'}, 'http://www.comune.arezzo.it/sites/default/files/allegato_a_2_0.pdf': {'href': 'http://www.comune.arezzo.it/sites/default/files/allegato_a_2_0.pdf'}, 'http://www.comune.arezzo.it/sites/default/files/allegato_b_4.pdf': {'href': 'http://www.comune.arezzo.it/sites/default/files/allegato_b_4.pdf'}, 'http://www.comune.arezzo.it/sites/default/files/allegato_c_2_0.pdf': {'href': 'http://www.comune.arezzo.it/sites/default/files/allegato_c_2_0.pdf'}, 'http://www.comune.arezzo.it/sites/default/files/allegato_d_1_0.pdf': {'href': 'http://www.comune.arezzo.it/sites/default/files/allegato_d_1_0.pdf'}}\n",
      "https://www.comune.arezzo.it/delibera-gc-n-87-del-27022018\n",
      "{'https://www.comune.arezzo.it/sites/default/files/gc_2018_87.odt': {'href': 'https://www.comune.arezzo.it/sites/default/files/gc_2018_87.odt'}}\n"
     ]
    },
    {
     "name": "stderr",
     "output_type": "stream",
     "text": [
      "INFO:root:Found 1 files to download\n"
     ]
    },
    {
     "name": "stdout",
     "output_type": "stream",
     "text": [
      "ef88f144_gc_2018_87.odt\n",
      "https://www.comune.arezzo.it/piano-triennale-razionalizzazione-contenimento-delle-spese-funzionamento-delle-strutture-triennio\n"
     ]
    },
    {
     "name": "stderr",
     "output_type": "stream",
     "text": [
      "INFO:root:Found 1 files to download\n"
     ]
    },
    {
     "name": "stdout",
     "output_type": "stream",
     "text": [
      "ef88f144_gc_2018_87.odt\n",
      "ef88f144_gc_2018_87.odt\n"
     ]
    },
    {
     "name": "stderr",
     "output_type": "stream",
     "text": [
      "INFO:root:Found 0 files to download\n"
     ]
    },
    {
     "name": "stdout",
     "output_type": "stream",
     "text": [
      "{'https://www.comune.arezzo.it/delibera-gc-n-557-del-13112018': {'href': 'https://www.comune.arezzo.it/delibera-gc-n-557-del-13112018'}, 'http://www.comune.arezzo.it/sites/default/files/allegato_a_4.pdf': {'href': 'http://www.comune.arezzo.it/sites/default/files/allegato_a_4.pdf'}, 'http://www.comune.arezzo.it/sites/default/files/allegato_b_5.pdf': {'href': 'http://www.comune.arezzo.it/sites/default/files/allegato_b_5.pdf'}, 'http://www.comune.arezzo.it/sites/default/files/allegato_c_4.pdf': {'href': 'http://www.comune.arezzo.it/sites/default/files/allegato_c_4.pdf'}, 'http://www.comune.arezzo.it/sites/default/files/allegato_d_4.pdf': {'href': 'http://www.comune.arezzo.it/sites/default/files/allegato_d_4.pdf'}}\n",
      "https://www.comune.arezzo.it/delibera-gc-n-557-del-13112018\n",
      "{'https://www.comune.arezzo.it/sites/default/files/gc_2018_557.odt': {'href': 'https://www.comune.arezzo.it/sites/default/files/gc_2018_557.odt'}}\n"
     ]
    },
    {
     "name": "stderr",
     "output_type": "stream",
     "text": [
      "INFO:root:Found 1 files to download\n"
     ]
    },
    {
     "name": "stdout",
     "output_type": "stream",
     "text": [
      "6722523b_gc_2018_557.odt\n",
      "https://www.comune.arezzo.it/piani-triennali-razionalizzazione-contenimento-delle-spese-funzionamento-delle-strutture-3\n"
     ]
    },
    {
     "name": "stderr",
     "output_type": "stream",
     "text": [
      "INFO:root:Found 1 files to download\n"
     ]
    },
    {
     "name": "stdout",
     "output_type": "stream",
     "text": [
      "6722523b_gc_2018_557.odt\n",
      "6722523b_gc_2018_557.odt\n"
     ]
    },
    {
     "name": "stderr",
     "output_type": "stream",
     "text": [
      "INFO:root:Found 0 files to download\n"
     ]
    },
    {
     "name": "stdout",
     "output_type": "stream",
     "text": [
      "{'https://www.comune.arezzo.it/delibera-gc-n-112-del-25032019': {'href': 'https://www.comune.arezzo.it/delibera-gc-n-112-del-25032019'}, 'http://www.comune.arezzo.it/sites/default/files/allegato_a_3_0.pdf': {'href': 'http://www.comune.arezzo.it/sites/default/files/allegato_a_3_0.pdf'}, 'http://www.comune.arezzo.it/sites/default/files/allegato_b_2_0.pdf': {'href': 'http://www.comune.arezzo.it/sites/default/files/allegato_b_2_0.pdf'}, 'http://www.comune.arezzo.it/sites/default/files/allegato_c_3_0.pdf': {'href': 'http://www.comune.arezzo.it/sites/default/files/allegato_c_3_0.pdf'}, 'http://www.comune.arezzo.it/sites/default/files/allegato_d_2_0.pdf': {'href': 'http://www.comune.arezzo.it/sites/default/files/allegato_d_2_0.pdf'}}\n",
      "https://www.comune.arezzo.it/delibera-gc-n-112-del-25032019\n",
      "{'https://www.comune.arezzo.it/sites/default/files/gc_2019_112.odt': {'href': 'https://www.comune.arezzo.it/sites/default/files/gc_2019_112.odt'}}\n"
     ]
    },
    {
     "name": "stderr",
     "output_type": "stream",
     "text": [
      "INFO:root:Found 1 files to download\n"
     ]
    },
    {
     "name": "stdout",
     "output_type": "stream",
     "text": [
      "c14e201f_gc_2019_112.odt\n",
      "https://www.comune.arezzo.it/pubblicazione-bilanci-consuntivi-sagre-destinazioni-proventi\n"
     ]
    },
    {
     "name": "stderr",
     "output_type": "stream",
     "text": [
      "INFO:root:Found 1 files to download\n"
     ]
    },
    {
     "name": "stdout",
     "output_type": "stream",
     "text": [
      "c14e201f_gc_2019_112.odt\n",
      "c14e201f_gc_2019_112.odt\n",
      "{'http://www.comune.arezzo.it/sites/default/files/sagre_e_feste_paesane_-_-2016-_rendiconto_consuntivo.pdf': {'href': 'http://www.comune.arezzo.it/sites/default/files/sagre_e_feste_paesane_-_-2016-_rendiconto_consuntivo.pdf'}, 'http://www.comune.arezzo.it/sites/default/files/sagre_e_feste_paesane_-_-2017-_bilancio_preventivo.pdf': {'href': 'http://www.comune.arezzo.it/sites/default/files/sagre_e_feste_paesane_-_-2017-_bilancio_preventivo.pdf'}, 'http://www.comune.arezzo.it/sites/default/files/sagre.prev_.2018.cons_.2017.pdf': {'href': 'http://www.comune.arezzo.it/sites/default/files/sagre.prev_.2018.cons_.2017.pdf'}, 'http://www.comune.arezzo.it/sites/default/files/sagre_bilanci_cons._2018_e_prev._2019_-_pubbl.pdf': {'href': 'http://www.comune.arezzo.it/sites/default/files/sagre_bilanci_cons._2018_e_prev._2019_-_pubbl.pdf'}}\n"
     ]
    }
   ],
   "source": [
    "get_recursive_microsections('http://www.comune.arezzo.it/altri-contenuti')"
   ]
  },
  {
   "cell_type": "markdown",
   "metadata": {},
   "source": [
    "# Method to get all bandi di concorso attivi"
   ]
  },
  {
   "cell_type": "code",
   "execution_count": 102,
   "metadata": {},
   "outputs": [],
   "source": [
    "sections = get_microsections_bandi('https://www.comune.arezzo.it/concorsi')"
   ]
  },
  {
   "cell_type": "code",
   "execution_count": 103,
   "metadata": {},
   "outputs": [
    {
     "data": {
      "text/plain": [
       "{'https://www.comune.arezzo.it/bandoastaconcorso/interpello-prova-unica-orale-finalizzato-allassunzione-tempo-pieno-indeterminato-1': {'href': 'https://www.comune.arezzo.it/bandoastaconcorso/interpello-prova-unica-orale-finalizzato-allassunzione-tempo-pieno-indeterminato-1'},\n",
       " 'https://www.comune.arezzo.it/bandoastaconcorso/concorso-pubblico-esami-copertura-contratto-tempo-pieno-ed-indeterminato-n-9-posti': {'href': 'https://www.comune.arezzo.it/bandoastaconcorso/concorso-pubblico-esami-copertura-contratto-tempo-pieno-ed-indeterminato-n-9-posti'},\n",
       " 'https://www.comune.arezzo.it/bandoastaconcorso/interpello-prova-unica-orale-finalizzato-alla-copertura-tempo-pieno-0': {'href': 'https://www.comune.arezzo.it/bandoastaconcorso/interpello-prova-unica-orale-finalizzato-alla-copertura-tempo-pieno-0'},\n",
       " 'https://www.comune.arezzo.it/bandoastaconcorso/avviso-manifestazione-interesse-candidatura-presidente-del-collegio-dei-revisori-0': {'href': 'https://www.comune.arezzo.it/bandoastaconcorso/avviso-manifestazione-interesse-candidatura-presidente-del-collegio-dei-revisori-0'},\n",
       " 'https://www.comune.arezzo.it/bandoastaconcorso/avviso-pubblico-selezione-conferimento-incarico-lavoro-autonomo-professionale-0': {'href': 'https://www.comune.arezzo.it/bandoastaconcorso/avviso-pubblico-selezione-conferimento-incarico-lavoro-autonomo-professionale-0'},\n",
       " 'https://www.comune.arezzo.it/bandoastaconcorso/avviso-mobilita-volontaria-art-30-comma-1-d-lgs-1652001-copertura-contratto-tempo': {'href': 'https://www.comune.arezzo.it/bandoastaconcorso/avviso-mobilita-volontaria-art-30-comma-1-d-lgs-1652001-copertura-contratto-tempo'},\n",
       " 'https://www.comune.arezzo.it/bandoastaconcorso/interpello-prova-unica-orale-finalizzato-allassunzione-tempo-pieno-indeterminato-n': {'href': 'https://www.comune.arezzo.it/bandoastaconcorso/interpello-prova-unica-orale-finalizzato-allassunzione-tempo-pieno-indeterminato-n'},\n",
       " 'https://www.comune.arezzo.it/bandoastaconcorso/interpello-prova-unica-orale-finalizzato-allassunzione-tempo-pieno-indeterminato-0': {'href': 'https://www.comune.arezzo.it/bandoastaconcorso/interpello-prova-unica-orale-finalizzato-allassunzione-tempo-pieno-indeterminato-0'},\n",
       " 'https://www.comune.arezzo.it/bandoastaconcorso/mobilita-volontaria-ex-art-30-comma-1-d-lgs-1652001-copertura-n-1-posto-operatore': {'href': 'https://www.comune.arezzo.it/bandoastaconcorso/mobilita-volontaria-ex-art-30-comma-1-d-lgs-1652001-copertura-n-1-posto-operatore'},\n",
       " 'https://www.comune.arezzo.it/bandoastaconcorso/interpello-prova-unica-orale-finalizzato-alla-copertura-tempo-pieno-indeterminato': {'href': 'https://www.comune.arezzo.it/bandoastaconcorso/interpello-prova-unica-orale-finalizzato-alla-copertura-tempo-pieno-indeterminato'},\n",
       " 'https://www.comune.arezzo.it/bandoastaconcorso/concorso-pubblico-esami-copertura-contratto-tempo-pieno-ed-indeterminato-n-4-posti': {'href': 'https://www.comune.arezzo.it/bandoastaconcorso/concorso-pubblico-esami-copertura-contratto-tempo-pieno-ed-indeterminato-n-4-posti'},\n",
       " 'https://www.comune.arezzo.it/bandoastaconcorso/avviso-pubblico-lattivazione-n-5-tirocini-formativi-non-curriculari-presso-comune': {'href': 'https://www.comune.arezzo.it/bandoastaconcorso/avviso-pubblico-lattivazione-n-5-tirocini-formativi-non-curriculari-presso-comune'},\n",
       " 'https://www.comune.arezzo.it/bandoastaconcorso/selezione-pubblica-esame-copertura-contratto-tempo-pieno-determinato-n-2-posti-cat': {'href': 'https://www.comune.arezzo.it/bandoastaconcorso/selezione-pubblica-esame-copertura-contratto-tempo-pieno-determinato-n-2-posti-cat'},\n",
       " 'https://www.comune.arezzo.it/bandoastaconcorso/selezione-pubblica-titoli-ed-esami-lassunzione-tempo-pieno-indeterminato-n-3': {'href': 'https://www.comune.arezzo.it/bandoastaconcorso/selezione-pubblica-titoli-ed-esami-lassunzione-tempo-pieno-indeterminato-n-3'},\n",
       " 'https://www.comune.arezzo.it/bandoastaconcorso/concorso-pubblico-esami-copertura-contratto-tempo-pieno-indeterminato-n-6-posti': {'href': 'https://www.comune.arezzo.it/bandoastaconcorso/concorso-pubblico-esami-copertura-contratto-tempo-pieno-indeterminato-n-6-posti'},\n",
       " 'https://www.comune.arezzo.it/bandoastaconcorso/mobilita-volontaria-esterna-ex-art-30-comma-1-d-lgs-1652001-copertura-contratto-1': {'href': 'https://www.comune.arezzo.it/bandoastaconcorso/mobilita-volontaria-esterna-ex-art-30-comma-1-d-lgs-1652001-copertura-contratto-1'},\n",
       " 'https://www.comune.arezzo.it/bandoastaconcorso/mobilita-volontaria-esterna-ex-art-30-comma-1-d-lgs-1652001-copertura-contratto': {'href': 'https://www.comune.arezzo.it/bandoastaconcorso/mobilita-volontaria-esterna-ex-art-30-comma-1-d-lgs-1652001-copertura-contratto'},\n",
       " 'https://www.comune.arezzo.it/bandoastaconcorso/mobilita-volontaria-esterna-ex-art-30-comma-1-d-lgs-1652001-copertura-contratto-0': {'href': 'https://www.comune.arezzo.it/bandoastaconcorso/mobilita-volontaria-esterna-ex-art-30-comma-1-d-lgs-1652001-copertura-contratto-0'},\n",
       " 'https://www.comune.arezzo.it/bandoastaconcorso/avviso-pubblico-selezione-soli-titoli-formazione-dellelenco-comunale-dei': {'href': 'https://www.comune.arezzo.it/bandoastaconcorso/avviso-pubblico-selezione-soli-titoli-formazione-dellelenco-comunale-dei'},\n",
       " 'https://www.comune.arezzo.it/bandoastaconcorso/avviso-procedura-comparativa-pubblica-mediante-valutazione-dei-curricula': {'href': 'https://www.comune.arezzo.it/bandoastaconcorso/avviso-procedura-comparativa-pubblica-mediante-valutazione-dei-curricula'},\n",
       " 'https://www.comune.arezzo.it/bandoastaconcorso/selezione-pubblica-curriculum-ed-esame-formazione-una-graduatoria-cat-c-profilo': {'href': 'https://www.comune.arezzo.it/bandoastaconcorso/selezione-pubblica-curriculum-ed-esame-formazione-una-graduatoria-cat-c-profilo'},\n",
       " 'https://www.comune.arezzo.it/bandoastaconcorso/concorso-pubblico-titoli-ed-esami-copertura-contratto-lavoro-tempo-pieno-ed-0': {'href': 'https://www.comune.arezzo.it/bandoastaconcorso/concorso-pubblico-titoli-ed-esami-copertura-contratto-lavoro-tempo-pieno-ed-0'},\n",
       " 'https://www.comune.arezzo.it/bandoastaconcorso/avviso-pubblico-selezione-conferimento-incarico-lavoro-autonomo-professionale': {'href': 'https://www.comune.arezzo.it/bandoastaconcorso/avviso-pubblico-selezione-conferimento-incarico-lavoro-autonomo-professionale'},\n",
       " 'https://www.comune.arezzo.it/bandoastaconcorso/selezione-pubblica-curriculum-ed-esame-formazione-graduatorie-assunzioni-tempo': {'href': 'https://www.comune.arezzo.it/bandoastaconcorso/selezione-pubblica-curriculum-ed-esame-formazione-graduatorie-assunzioni-tempo'},\n",
       " 'https://www.comune.arezzo.it/bandoastaconcorso/avviso-pubblico-lattivazione-n-2-tirocini-formativi-non-curricolari-presso-comune': {'href': 'https://www.comune.arezzo.it/bandoastaconcorso/avviso-pubblico-lattivazione-n-2-tirocini-formativi-non-curricolari-presso-comune'},\n",
       " 'https://www.comune.arezzo.it/bandoastaconcorso/avviso-pubblico-lattivazione-n-1-tirocinio-formativo-non-curricolare-presso-comune': {'href': 'https://www.comune.arezzo.it/bandoastaconcorso/avviso-pubblico-lattivazione-n-1-tirocinio-formativo-non-curricolare-presso-comune'},\n",
       " 'https://www.comune.arezzo.it/bandoastaconcorso/concorso-pubblico-esami-copertura-contratto-lavoro-tempo-pieno-indeterminato-n-3': {'href': 'https://www.comune.arezzo.it/bandoastaconcorso/concorso-pubblico-esami-copertura-contratto-lavoro-tempo-pieno-indeterminato-n-3'},\n",
       " 'https://www.comune.arezzo.it/bandoastaconcorso/mobilita-volontaria-ex-art-30-d-lgs-16501-copertura-n-1-posto-cat-c-profilo': {'href': 'https://www.comune.arezzo.it/bandoastaconcorso/mobilita-volontaria-ex-art-30-d-lgs-16501-copertura-n-1-posto-cat-c-profilo'},\n",
       " 'https://www.comune.arezzo.it/bandoastaconcorso/mobilita-volontaria-ex-art-30-d-lgs-16501-copertura-n-3-posti-cat-c-profilo': {'href': 'https://www.comune.arezzo.it/bandoastaconcorso/mobilita-volontaria-ex-art-30-d-lgs-16501-copertura-n-3-posti-cat-c-profilo'},\n",
       " 'https://www.comune.arezzo.it/bandoastaconcorso/selezione-pubblica-lassunzione-tempo-determinato-ex-art-90-d-lgs-2672000-un': {'href': 'https://www.comune.arezzo.it/bandoastaconcorso/selezione-pubblica-lassunzione-tempo-determinato-ex-art-90-d-lgs-2672000-un'},\n",
       " 'https://www.comune.arezzo.it/bandoastaconcorso/selezione-pubblica-lassunzione-tempo-determinato-ex-art-90-d-lgs-2672000-un-0': {'href': 'https://www.comune.arezzo.it/bandoastaconcorso/selezione-pubblica-lassunzione-tempo-determinato-ex-art-90-d-lgs-2672000-un-0'},\n",
       " 'https://www.comune.arezzo.it/bandoastaconcorso/servizio-civile-regionale-2021-01-prima-proroga-bando-progetti-2018-finanziato': {'href': 'https://www.comune.arezzo.it/bandoastaconcorso/servizio-civile-regionale-2021-01-prima-proroga-bando-progetti-2018-finanziato'},\n",
       " 'https://www.comune.arezzo.it/bandoastaconcorso/selezione-pubblica-lassunzione-tempo-determinato-un-dirigente-cui-conferire': {'href': 'https://www.comune.arezzo.it/bandoastaconcorso/selezione-pubblica-lassunzione-tempo-determinato-un-dirigente-cui-conferire'},\n",
       " 'https://www.comune.arezzo.it/bandoastaconcorso/selezione-pubblica-lassunzione-tempo-determinato-un-dirigente-cui-conferire-0': {'href': 'https://www.comune.arezzo.it/bandoastaconcorso/selezione-pubblica-lassunzione-tempo-determinato-un-dirigente-cui-conferire-0'},\n",
       " 'https://www.comune.arezzo.it/bandoastaconcorso/selezione-pubblica-lassunzione-tempo-determinato-un-dirigente-cui-conferire-1': {'href': 'https://www.comune.arezzo.it/bandoastaconcorso/selezione-pubblica-lassunzione-tempo-determinato-un-dirigente-cui-conferire-1'},\n",
       " 'https://www.comune.arezzo.it/bandoastaconcorso/procedura-selettiva-copertura-contratto-tempo-determinato-ex-art-110-comma-2-del-d': {'href': 'https://www.comune.arezzo.it/bandoastaconcorso/procedura-selettiva-copertura-contratto-tempo-determinato-ex-art-110-comma-2-del-d'},\n",
       " 'https://www.comune.arezzo.it/bandoastaconcorso/mobilita-volontaria-esterna-ex-art-30-comma-1-d-lgs-n-1652001-copertura-n-1-posto': {'href': 'https://www.comune.arezzo.it/bandoastaconcorso/mobilita-volontaria-esterna-ex-art-30-comma-1-d-lgs-n-1652001-copertura-n-1-posto'},\n",
       " 'https://www.comune.arezzo.it/bandoastaconcorso/avviso-manifestazione-interesse-candidatura-presidente-del-collegio-dei-revisori': {'href': 'https://www.comune.arezzo.it/bandoastaconcorso/avviso-manifestazione-interesse-candidatura-presidente-del-collegio-dei-revisori'},\n",
       " 'https://www.comune.arezzo.it/bandoastaconcorso/mobilita-volontaria-ex-art-30-comma-1-d-lgs-16501-copertura-un-posto-categoria': {'href': 'https://www.comune.arezzo.it/bandoastaconcorso/mobilita-volontaria-ex-art-30-comma-1-d-lgs-16501-copertura-un-posto-categoria'},\n",
       " 'https://www.comune.arezzo.it/bandoastaconcorso/selezione-pubblica-assunzione-tempo-indeterminato-un-collaboratore': {'href': 'https://www.comune.arezzo.it/bandoastaconcorso/selezione-pubblica-assunzione-tempo-indeterminato-un-collaboratore'},\n",
       " 'https://www.comune.arezzo.it/bandoastaconcorso/selezione-pubblica-lassunzione-tempo-determinato-un-dirigente-settore-cultura': {'href': 'https://www.comune.arezzo.it/bandoastaconcorso/selezione-pubblica-lassunzione-tempo-determinato-un-dirigente-settore-cultura'},\n",
       " 'https://www.comune.arezzo.it/bandoastaconcorso/selezione-titoli-formazione-una-graduatoria-assunzioni-tempo-determnato-personale': {'href': 'https://www.comune.arezzo.it/bandoastaconcorso/selezione-titoli-formazione-una-graduatoria-assunzioni-tempo-determnato-personale'},\n",
       " 'https://www.comune.arezzo.it/bandoastaconcorso/selezione-pubblica-curriculum-colloquio-copertura-contratto-lavoro-tempo-pieno': {'href': 'https://www.comune.arezzo.it/bandoastaconcorso/selezione-pubblica-curriculum-colloquio-copertura-contratto-lavoro-tempo-pieno'},\n",
       " 'https://www.comune.arezzo.it/bandoastaconcorso/avviso-mobilita-volontaria-copertura-contratto-tempo-pieno-indeterminato-n-2-0': {'href': 'https://www.comune.arezzo.it/bandoastaconcorso/avviso-mobilita-volontaria-copertura-contratto-tempo-pieno-indeterminato-n-2-0'},\n",
       " 'https://www.comune.arezzo.it/bandoastaconcorso/concorso-pubblico-titoli-ed-esami-copertura-contratto-lavoro-tempo-pieno-ed': {'href': 'https://www.comune.arezzo.it/bandoastaconcorso/concorso-pubblico-titoli-ed-esami-copertura-contratto-lavoro-tempo-pieno-ed'},\n",
       " 'https://www.comune.arezzo.it/bandoastaconcorso/concorso-pubblico-esami-copertura-contratto-lavoro-tempo-pieno-ed-indeterminato-0': {'href': 'https://www.comune.arezzo.it/bandoastaconcorso/concorso-pubblico-esami-copertura-contratto-lavoro-tempo-pieno-ed-indeterminato-0'}}"
      ]
     },
     "execution_count": 103,
     "metadata": {},
     "output_type": "execute_result"
    }
   ],
   "source": [
    "sections"
   ]
  },
  {
   "cell_type": "code",
   "execution_count": 104,
   "metadata": {},
   "outputs": [],
   "source": [
    "def download_bandi():\n",
    "    # body_e = driver.find_element(By.CLASS_NAME, 'view-content')\n",
    "    file_elements = driver.find_elements(By.CLASS_NAME, 'file')\n",
    "    for f_e in file_elements:\n",
    "        a_e = f_e.find_element(By.TAG_NAME, 'a')\n",
    "        link_file = a_e.get_attribute('href')\n",
    "        if link_file.endswith(extensions):\n",
    "            try:\n",
    "                # Get the last part of the resulting path\n",
    "                link_parts = link_file.split('/')\n",
    "                file_name = rename_file(file_name=link_parts[-1],\n",
    "                                        link_ogg=link_file)\n",
    "                \n",
    "                download_file(file_name=file_name, link_file=link_file)\n",
    "            except Exception as e:\n",
    "                print(e)\n",
    "        else:\n",
    "            pass"
   ]
  },
  {
   "cell_type": "code",
   "execution_count": 105,
   "metadata": {},
   "outputs": [],
   "source": [
    "# for ms, values in sections.items():\n",
    "#     link = values['href']\n",
    "\n",
    "#     driver.get(link)\n",
    "#     download_bandi()"
   ]
  },
  {
   "cell_type": "code",
   "execution_count": null,
   "metadata": {},
   "outputs": [],
   "source": []
  }
 ],
 "metadata": {
  "kernelspec": {
   "display_name": "Python 3",
   "language": "python",
   "name": "python3"
  },
  "language_info": {
   "codemirror_mode": {
    "name": "ipython",
    "version": 3
   },
   "file_extension": ".py",
   "mimetype": "text/x-python",
   "name": "python",
   "nbconvert_exporter": "python",
   "pygments_lexer": "ipython3",
   "version": "3.10.10"
  }
 },
 "nbformat": 4,
 "nbformat_minor": 2
}
